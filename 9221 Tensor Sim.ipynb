{
 "cells": [
  {
   "cell_type": "code",
   "execution_count": 1,
   "metadata": {},
   "outputs": [],
   "source": [
    "import torch\n",
    "import numpy as np\n",
    "import pandas as pd\n",
    "from lib.data_utils import *\n",
    "from lib.model_utils import *\n",
    "from tqdm import tqdm\n",
    "import numpy as np\n",
    "import matplotlib.pyplot as plt\n",
    "import time\n",
    "from torch.nn.functional import one_hot"
   ]
  },
  {
   "attachments": {},
   "cell_type": "markdown",
   "metadata": {},
   "source": [
    "# Load data & models"
   ]
  },
  {
   "attachments": {},
   "cell_type": "markdown",
   "metadata": {},
   "source": [
    "## Data"
   ]
  },
  {
   "cell_type": "code",
   "execution_count": 2,
   "metadata": {},
   "outputs": [],
   "source": [
    "df_train, df_train_y, df_optimization, df_optimization_y, df_test, df_test_y, complete_feature_set, features_model = load_model_training_data_template(train_sets = ['data/wyscout/csv/events/Italy.csv', 'data/wyscout/csv/events/Germany.csv', 'data/wyscout/csv/events/France.csv'], optimization_sets = ['data/wyscout/csv/events/Italy.csv',], test_sets = ['data/wyscout/csv/events/Spain.csv', 'data/wyscout/csv/events/England.csv'])"
   ]
  },
  {
   "cell_type": "code",
   "execution_count": 3,
   "metadata": {},
   "outputs": [
    {
     "name": "stdout",
     "output_type": "stream",
     "text": [
      "['subtype_id_1', 'subtype_id_2', 'subtype_id_3', 'subtype_id_4', 'subtype_id_5', 'subtype_id_6', 'subtype_id_7', 'subtype_id_8', 'subtype_id_9', 'subtype_id_10', 'subtype_id_11', 'subtype_id_12', 'subtype_id_13', 'subtype_id_14', 'subtype_id_15', 'subtype_id_16', 'subtype_id_17', 'subtype_id_18', 'subtype_id_19', 'subtype_id_20', 'subtype_id_21', 'subtype_id_22', 'subtype_id_23', 'subtype_id_24', 'subtype_id_25', 'subtype_id_26', 'subtype_id_27', 'subtype_id_28', 'subtype_id_29', 'subtype_id_30', 'subtype_id_31', 'subtype_id_32', 'subtype_id_33', 'period', 'minute', 'x', 'y', 'is_home_team', 'accurate', 'goal', 'home_score', 'away_score', 'next_action_x', 'next_action_y', 'next_action_type_1', 'next_action_type_2', 'next_action_type_3', 'next_action_type_4', 'next_action_type_5', 'next_action_type_6', 'next_action_type_7', 'next_action_type_8', 'next_action_type_9', 'next_action_type_10', 'next_action_type_11', 'next_action_type_12', 'next_action_type_13', 'next_action_type_14', 'next_action_type_15', 'next_action_type_16', 'next_action_type_17', 'next_action_type_18', 'next_action_type_19', 'next_action_type_20', 'next_action_type_21', 'next_action_type_22', 'next_action_type_23', 'next_action_type_24', 'next_action_type_25', 'next_action_type_26', 'next_action_type_27', 'next_action_type_28', 'next_action_type_29', 'next_action_type_30', 'next_action_type_31', 'next_action_type_32', 'next_action_type_33', 'next_action_accurate', 'next_action_goal']\n"
     ]
    }
   ],
   "source": [
    "print(complete_feature_set)"
   ]
  },
  {
   "attachments": {},
   "cell_type": "markdown",
   "metadata": {},
   "source": [
    "# Simulation class"
   ]
  },
  {
   "cell_type": "code",
   "execution_count": 4,
   "metadata": {},
   "outputs": [],
   "source": [
    "from lib.simulator import *"
   ]
  },
  {
   "cell_type": "code",
   "execution_count": 5,
   "metadata": {},
   "outputs": [],
   "source": [
    "sim = Simulator(\n",
    "    model_type_path='models/lem/LEMv3_MODEL_TYPE_TORCH.pth',\n",
    "    model_acc_path='models/lem/LEMv4_MODEL_ACC_TORCH.pth',\n",
    "    model_data_path='models/lem/LEMv3_MODEL_DATA_TORCH.pth')"
   ]
  },
  {
   "cell_type": "code",
   "execution_count": 6,
   "metadata": {},
   "outputs": [
    {
     "name": "stderr",
     "output_type": "stream",
     "text": [
      " 94%|█████████▎| 1873/2000 [01:53<00:07, 16.49it/s]\n"
     ]
    }
   ],
   "source": [
    "feature_tensor, all_sims_data = sim.simulate([1 if i == 27 else 0 for i in range(33)] + [0, 0, 0.5, 0.5, 1, 1, 0, 0, 0], store_full_sim=True, n_sims=10000)"
   ]
  },
  {
   "attachments": {},
   "cell_type": "markdown",
   "metadata": {},
   "source": [
    "# Post-simulation analysis"
   ]
  },
  {
   "cell_type": "code",
   "execution_count": 7,
   "metadata": {},
   "outputs": [
    {
     "data": {
      "text/html": [
       "<div>\n",
       "<style scoped>\n",
       "    .dataframe tbody tr th:only-of-type {\n",
       "        vertical-align: middle;\n",
       "    }\n",
       "\n",
       "    .dataframe tbody tr th {\n",
       "        vertical-align: top;\n",
       "    }\n",
       "\n",
       "    .dataframe thead th {\n",
       "        text-align: right;\n",
       "    }\n",
       "</style>\n",
       "<table border=\"1\" class=\"dataframe\">\n",
       "  <thead>\n",
       "    <tr style=\"text-align: right;\">\n",
       "      <th></th>\n",
       "      <th>period</th>\n",
       "      <th>minute</th>\n",
       "      <th>x</th>\n",
       "      <th>y</th>\n",
       "      <th>is_home_team</th>\n",
       "      <th>accurate</th>\n",
       "      <th>goal</th>\n",
       "      <th>home_score</th>\n",
       "      <th>away_score</th>\n",
       "      <th>type_id</th>\n",
       "    </tr>\n",
       "  </thead>\n",
       "  <tbody>\n",
       "    <tr>\n",
       "      <th>0</th>\n",
       "      <td>2.0</td>\n",
       "      <td>0.324444</td>\n",
       "      <td>0.89</td>\n",
       "      <td>0.25</td>\n",
       "      <td>1.0</td>\n",
       "      <td>0.0</td>\n",
       "      <td>0.0</td>\n",
       "      <td>0</td>\n",
       "      <td>2</td>\n",
       "      <td>4</td>\n",
       "    </tr>\n",
       "    <tr>\n",
       "      <th>1</th>\n",
       "      <td>2.0</td>\n",
       "      <td>0.219444</td>\n",
       "      <td>0.31</td>\n",
       "      <td>0.49</td>\n",
       "      <td>0.0</td>\n",
       "      <td>1.0</td>\n",
       "      <td>0.0</td>\n",
       "      <td>1</td>\n",
       "      <td>1</td>\n",
       "      <td>28</td>\n",
       "    </tr>\n",
       "    <tr>\n",
       "      <th>2</th>\n",
       "      <td>2.0</td>\n",
       "      <td>0.319167</td>\n",
       "      <td>0.68</td>\n",
       "      <td>0.67</td>\n",
       "      <td>0.0</td>\n",
       "      <td>1.0</td>\n",
       "      <td>1.0</td>\n",
       "      <td>2</td>\n",
       "      <td>1</td>\n",
       "      <td>33</td>\n",
       "    </tr>\n",
       "    <tr>\n",
       "      <th>3</th>\n",
       "      <td>2.0</td>\n",
       "      <td>0.278333</td>\n",
       "      <td>0.75</td>\n",
       "      <td>0.83</td>\n",
       "      <td>1.0</td>\n",
       "      <td>1.0</td>\n",
       "      <td>0.0</td>\n",
       "      <td>2</td>\n",
       "      <td>1</td>\n",
       "      <td>28</td>\n",
       "    </tr>\n",
       "    <tr>\n",
       "      <th>4</th>\n",
       "      <td>2.0</td>\n",
       "      <td>0.228055</td>\n",
       "      <td>0.36</td>\n",
       "      <td>0.40</td>\n",
       "      <td>1.0</td>\n",
       "      <td>0.0</td>\n",
       "      <td>0.0</td>\n",
       "      <td>2</td>\n",
       "      <td>1</td>\n",
       "      <td>3</td>\n",
       "    </tr>\n",
       "    <tr>\n",
       "      <th>...</th>\n",
       "      <td>...</td>\n",
       "      <td>...</td>\n",
       "      <td>...</td>\n",
       "      <td>...</td>\n",
       "      <td>...</td>\n",
       "      <td>...</td>\n",
       "      <td>...</td>\n",
       "      <td>...</td>\n",
       "      <td>...</td>\n",
       "      <td>...</td>\n",
       "    </tr>\n",
       "    <tr>\n",
       "      <th>9995</th>\n",
       "      <td>2.0</td>\n",
       "      <td>0.270000</td>\n",
       "      <td>0.86</td>\n",
       "      <td>0.90</td>\n",
       "      <td>1.0</td>\n",
       "      <td>1.0</td>\n",
       "      <td>0.0</td>\n",
       "      <td>2</td>\n",
       "      <td>0</td>\n",
       "      <td>28</td>\n",
       "    </tr>\n",
       "    <tr>\n",
       "      <th>9996</th>\n",
       "      <td>2.0</td>\n",
       "      <td>0.318611</td>\n",
       "      <td>0.29</td>\n",
       "      <td>0.35</td>\n",
       "      <td>1.0</td>\n",
       "      <td>1.0</td>\n",
       "      <td>0.0</td>\n",
       "      <td>0</td>\n",
       "      <td>0</td>\n",
       "      <td>28</td>\n",
       "    </tr>\n",
       "    <tr>\n",
       "      <th>9997</th>\n",
       "      <td>2.0</td>\n",
       "      <td>0.355833</td>\n",
       "      <td>0.15</td>\n",
       "      <td>0.85</td>\n",
       "      <td>1.0</td>\n",
       "      <td>1.0</td>\n",
       "      <td>0.0</td>\n",
       "      <td>1</td>\n",
       "      <td>3</td>\n",
       "      <td>28</td>\n",
       "    </tr>\n",
       "    <tr>\n",
       "      <th>9998</th>\n",
       "      <td>2.0</td>\n",
       "      <td>0.359722</td>\n",
       "      <td>0.73</td>\n",
       "      <td>0.18</td>\n",
       "      <td>1.0</td>\n",
       "      <td>0.0</td>\n",
       "      <td>0.0</td>\n",
       "      <td>1</td>\n",
       "      <td>0</td>\n",
       "      <td>4</td>\n",
       "    </tr>\n",
       "    <tr>\n",
       "      <th>9999</th>\n",
       "      <td>2.0</td>\n",
       "      <td>0.300555</td>\n",
       "      <td>0.10</td>\n",
       "      <td>0.62</td>\n",
       "      <td>1.0</td>\n",
       "      <td>0.0</td>\n",
       "      <td>0.0</td>\n",
       "      <td>4</td>\n",
       "      <td>0</td>\n",
       "      <td>3</td>\n",
       "    </tr>\n",
       "  </tbody>\n",
       "</table>\n",
       "<p>10000 rows × 10 columns</p>\n",
       "</div>"
      ],
      "text/plain": [
       "      period    minute     x     y  is_home_team  accurate  goal  home_score  \\\n",
       "0        2.0  0.324444  0.89  0.25           1.0       0.0   0.0           0   \n",
       "1        2.0  0.219444  0.31  0.49           0.0       1.0   0.0           1   \n",
       "2        2.0  0.319167  0.68  0.67           0.0       1.0   1.0           2   \n",
       "3        2.0  0.278333  0.75  0.83           1.0       1.0   0.0           2   \n",
       "4        2.0  0.228055  0.36  0.40           1.0       0.0   0.0           2   \n",
       "...      ...       ...   ...   ...           ...       ...   ...         ...   \n",
       "9995     2.0  0.270000  0.86  0.90           1.0       1.0   0.0           2   \n",
       "9996     2.0  0.318611  0.29  0.35           1.0       1.0   0.0           0   \n",
       "9997     2.0  0.355833  0.15  0.85           1.0       1.0   0.0           1   \n",
       "9998     2.0  0.359722  0.73  0.18           1.0       0.0   0.0           1   \n",
       "9999     2.0  0.300555  0.10  0.62           1.0       0.0   0.0           4   \n",
       "\n",
       "      away_score  type_id  \n",
       "0              2        4  \n",
       "1              1       28  \n",
       "2              1       33  \n",
       "3              1       28  \n",
       "4              1        3  \n",
       "...          ...      ...  \n",
       "9995           0       28  \n",
       "9996           0       28  \n",
       "9997           3       28  \n",
       "9998           0        4  \n",
       "9999           0        3  \n",
       "\n",
       "[10000 rows x 10 columns]"
      ]
     },
     "execution_count": 7,
     "metadata": {},
     "output_type": "execute_result"
    }
   ],
   "source": [
    "data = pd.DataFrame(feature_tensor)\n",
    "data['type_id'] = data[data.columns[:33]].idxmax(axis=1) + 1\n",
    "data = data.drop(data.columns[:33], axis=1)\n",
    "data.columns = ['period', 'minute', 'x', 'y', 'is_home_team', 'accurate', 'goal', 'home_score', 'away_score', 'type_id']\n",
    "data.home_score = (data.home_score * 10).astype(int)\n",
    "data.away_score = (data.away_score * 10).astype(int)\n",
    "data"
   ]
  },
  {
   "cell_type": "code",
   "execution_count": 8,
   "metadata": {},
   "outputs": [
    {
     "data": {
      "text/plain": [
       "2.0    10000\n",
       "Name: period, dtype: int64"
      ]
     },
     "execution_count": 8,
     "metadata": {},
     "output_type": "execute_result"
    }
   ],
   "source": [
    "data.period.value_counts()"
   ]
  },
  {
   "cell_type": "code",
   "execution_count": 9,
   "metadata": {},
   "outputs": [
    {
     "data": {
      "image/png": "[encoded data removed]",
      "text/plain": [
       "<Figure size 800x800 with 4 Axes>"
      ]
     },
     "metadata": {},
     "output_type": "display_data"
    }
   ],
   "source": [
    "plt.rcParams['figure.figsize'] = (8, 8)\n",
    "df_base = pd.concat([\n",
    "    pd.read_csv('data/extras/E0-1718.csv'),\n",
    "    pd.read_csv('data/extras/F0-1718.csv'),\n",
    "    pd.read_csv('data/extras/SP0-1718.csv'),\n",
    "    pd.read_csv('data/extras/I0-1718.csv'),\n",
    "    pd.read_csv('data/extras/D0-1718.csv'),\n",
    "])\n",
    "plt.subplot(221)\n",
    "plt.title('Distribution of Results in Full Set')\n",
    "plt.imshow(df_base.pivot_table(index='FTHG', columns='FTAG', values='Date', aggfunc='count'), cmap='hot_r')\n",
    "plt.ylim(8.5, -0.5)\n",
    "plt.xlim(-0.5, 8.5)\n",
    "plt.ylabel('Home Goals')\n",
    "plt.xlabel('Away Goals')\n",
    "plt.gca().set_aspect('equal', adjustable='box')\n",
    "\n",
    "plt.subplot(222)\n",
    "plt.title('Distribution of Results in Simulated Matches')\n",
    "plt.imshow(data.pivot_table(index='home_score', columns='away_score', values='x', aggfunc='count'), cmap='hot_r')\n",
    "plt.ylim(8.5, -0.5)\n",
    "plt.xlim(-0.5, 8.5)\n",
    "plt.ylabel('Home Goals')\n",
    "plt.xlabel('Away Goals');\n",
    "plt.gca().set_aspect('equal', adjustable='box')\n",
    "\n",
    "df_results = pd.DataFrame(feature_tensor[:, 40:42] * 10, columns=['HG', 'AG'])\n",
    "plt.subplot(223)\n",
    "plt.bar(df_results.groupby('HG').HG.count().index, df_results.groupby('HG').HG.count()/df_results.groupby('HG').HG.count().sum(), alpha=0.5, label=f'Simulation (Avg: {df_results[\"HG\"].mean():.2f})')\n",
    "plt.bar(df_base.groupby('FTHG').FTHG.count().index, df_base.groupby('FTHG').FTHG.count()/df_base.groupby('FTHG').FTHG.count().sum(), alpha=0.5, label=f'Label (Avg: {df_base[\"FTHG\"].mean():.2f})')\n",
    "plt.legend();\n",
    "plt.title('Distribution of Home Goals')\n",
    "plt.xlabel('Home Goals')\n",
    "plt.ylabel('Frequency')\n",
    "plt.xlim(-0.5, 8.5)\n",
    "plt.ylim(0, 0.5)\n",
    "plt.gca().set_aspect(20, adjustable='box')\n",
    "\n",
    "plt.subplot(224)\n",
    "plt.bar(df_results.groupby('AG').AG.count().index, df_results.groupby('AG').AG.count()/df_results.groupby('AG').AG.count().sum(), alpha=0.5, label=f'Simulation (Avg: {df_results[\"AG\"].mean():.2f})')\n",
    "plt.bar(df_base.groupby('FTAG').FTAG.count().index, df_base.groupby('FTAG').FTAG.count()/df_base.groupby('FTAG').FTAG.count().sum(), alpha=0.5, label=f'Label (Avg: {df_base[\"FTAG\"].mean():.2f})')\n",
    "plt.legend();\n",
    "plt.xlim(-0.5, 8.5)\n",
    "plt.ylim(0, 0.5)\n",
    "plt.title('Distribution of Away Goals')\n",
    "plt.xlabel('Away Goals')\n",
    "plt.ylabel('Frequency')\n",
    "plt.gca().set_aspect(20, adjustable='box')\n",
    "\n",
    "plt.tight_layout()\n",
    "plt.savefig('figures/paper_lem/distribution_matching.pdf', bbox_inches='tight')"
   ]
  },
  {
   "cell_type": "code",
   "execution_count": 10,
   "metadata": {},
   "outputs": [
    {
     "data": {
      "image/png": "[encoded data removed]",
      "text/plain": [
       "<Figure size 800x800 with 2 Axes>"
      ]
     },
     "metadata": {},
     "output_type": "display_data"
    }
   ],
   "source": [
    "df_results = pd.DataFrame(feature_tensor[:, 40:42] * 10, columns=['HG', 'AG'])\n",
    "plt.subplot(121)\n",
    "plt.bar(df_results.groupby('HG').HG.count().index, df_results.groupby('HG').HG.count()/df_results.groupby('HG').HG.count().max(), alpha=0.5, label=f'Simulation (Avg: {df_results[\"HG\"].mean():.2f})')\n",
    "plt.bar(df_base.groupby('FTHG').FTHG.count().index, df_base.groupby('FTHG').FTHG.count()/df_base.groupby('FTHG').FTHG.count().max(), alpha=0.5, label=f'Label (Avg: {df_base[\"FTHG\"].mean():.2f})')\n",
    "plt.legend();\n",
    "plt.subplot(122)\n",
    "plt.bar(df_results.groupby('AG').AG.count().index, df_results.groupby('AG').AG.count()/df_results.groupby('AG').AG.count().max(), alpha=0.5, label=f'Simulation (Avg: {df_results[\"AG\"].mean():.2f})')\n",
    "plt.bar(df_base.groupby('FTAG').FTAG.count().index, df_base.groupby('FTAG').FTAG.count()/df_base.groupby('FTAG').FTAG.count().max(), alpha=0.5, label=f'Label (Avg: {df_base[\"FTAG\"].mean():.2f})')\n",
    "plt.legend();\n",
    "\n",
    "plt.savefig('figures/paper_lem/distribution_scores.pdf', bbox_inches='tight')"
   ]
  },
  {
   "cell_type": "code",
   "execution_count": 11,
   "metadata": {},
   "outputs": [
    {
     "ename": "",
     "evalue": "",
     "output_type": "error",
     "traceback": [
      "\u001b[1;31mCanceled future for execute_request message before replies were done"
     ]
    },
    {
     "ename": "",
     "evalue": "",
     "output_type": "error",
     "traceback": [
      "\u001b[1;31mThe Kernel crashed while executing code in the the current cell or a previous cell. Please review the code in the cell(s) to identify a possible cause of the failure. Click <a href='https://aka.ms/vscodeJupyterKernelCrash'>here</a> for more info. View Jupyter <a href='command:jupyter.viewOutput'>log</a> for further details."
     ]
    }
   ],
   "source": [
    "data = pd.DataFrame(torch.concat(all_sims_data))\n",
    "data[data.columns[0:33]].sum().plot.bar(figsize=(20, 10));"
   ]
  },
  {
   "cell_type": "code",
   "execution_count": null,
   "metadata": {},
   "outputs": [],
   "source": [
    "df_all_data = []\n",
    "for i in range(len(all_sims_data)):\n",
    "    data = pd.DataFrame(all_sims_data[i])\n",
    "    data['type_id'] = data[data.columns[:33]].idxmax(axis=1) + 1\n",
    "    data = data.drop(data.columns[:33], axis=1)\n",
    "    data.columns = ['period', 'minute', 'x', 'y', 'is_home_team', 'accurate', 'goal', 'home_score', 'away_score', 'type_id']\n",
    "    data['event_id'] = i\n",
    "    data['game_id'] = [i for i in range(len(all_sims_data[i]))]\n",
    "    df_all_data.append(data)"
   ]
  },
  {
   "cell_type": "code",
   "execution_count": null,
   "metadata": {},
   "outputs": [],
   "source": [
    "df_all_data = pd.concat(df_all_data)\n",
    "df_all_data.minute *= 60\n",
    "df_all_data.x *= 100\n",
    "df_all_data.y *= 100\n",
    "df_all_data.home_score = (df_all_data.home_score * 10).astype(int)\n",
    "df_all_data.away_score = (df_all_data.away_score * 10).astype(int)\n",
    "df_all_data['type_name'] = df_all_data.type_id.map({v: k for k, v in SUBEVENT_TYPE_MAP.items()})\n",
    "df_all_data = df_all_data.reset_index(drop=True)"
   ]
  },
  {
   "cell_type": "code",
   "execution_count": null,
   "metadata": {},
   "outputs": [
    {
     "data": {
      "text/html": [
       "<div>\n",
       "<style scoped>\n",
       "    .dataframe tbody tr th:only-of-type {\n",
       "        vertical-align: middle;\n",
       "    }\n",
       "\n",
       "    .dataframe tbody tr th {\n",
       "        vertical-align: top;\n",
       "    }\n",
       "\n",
       "    .dataframe thead th {\n",
       "        text-align: right;\n",
       "    }\n",
       "</style>\n",
       "<table border=\"1\" class=\"dataframe\">\n",
       "  <thead>\n",
       "    <tr style=\"text-align: right;\">\n",
       "      <th></th>\n",
       "      <th>period</th>\n",
       "      <th>minute</th>\n",
       "      <th>x</th>\n",
       "      <th>y</th>\n",
       "      <th>is_home_team</th>\n",
       "      <th>accurate</th>\n",
       "      <th>goal</th>\n",
       "      <th>home_score</th>\n",
       "      <th>away_score</th>\n",
       "      <th>type_id</th>\n",
       "      <th>event_id</th>\n",
       "      <th>game_id</th>\n",
       "      <th>type_name</th>\n",
       "    </tr>\n",
       "  </thead>\n",
       "  <tbody>\n",
       "    <tr>\n",
       "      <th>1773888</th>\n",
       "      <td>2.0</td>\n",
       "      <td>7.749999</td>\n",
       "      <td>71.000000</td>\n",
       "      <td>89.0</td>\n",
       "      <td>1.0</td>\n",
       "      <td>0.0</td>\n",
       "      <td>0.0</td>\n",
       "      <td>1</td>\n",
       "      <td>2</td>\n",
       "      <td>22</td>\n",
       "      <td>1773</td>\n",
       "      <td>888</td>\n",
       "      <td>touch</td>\n",
       "    </tr>\n",
       "    <tr>\n",
       "      <th>850646</th>\n",
       "      <td>1.0</td>\n",
       "      <td>6.699998</td>\n",
       "      <td>61.000000</td>\n",
       "      <td>74.0</td>\n",
       "      <td>0.0</td>\n",
       "      <td>1.0</td>\n",
       "      <td>0.0</td>\n",
       "      <td>0</td>\n",
       "      <td>3</td>\n",
       "      <td>28</td>\n",
       "      <td>850</td>\n",
       "      <td>646</td>\n",
       "      <td>simple_pass</td>\n",
       "    </tr>\n",
       "    <tr>\n",
       "      <th>1565632</th>\n",
       "      <td>1.0</td>\n",
       "      <td>38.049976</td>\n",
       "      <td>47.000000</td>\n",
       "      <td>94.0</td>\n",
       "      <td>1.0</td>\n",
       "      <td>0.0</td>\n",
       "      <td>0.0</td>\n",
       "      <td>2</td>\n",
       "      <td>2</td>\n",
       "      <td>22</td>\n",
       "      <td>1565</td>\n",
       "      <td>632</td>\n",
       "      <td>touch</td>\n",
       "    </tr>\n",
       "    <tr>\n",
       "      <th>1256374</th>\n",
       "      <td>1.0</td>\n",
       "      <td>29.833332</td>\n",
       "      <td>60.000004</td>\n",
       "      <td>5.0</td>\n",
       "      <td>0.0</td>\n",
       "      <td>1.0</td>\n",
       "      <td>0.0</td>\n",
       "      <td>3</td>\n",
       "      <td>0</td>\n",
       "      <td>28</td>\n",
       "      <td>1256</td>\n",
       "      <td>374</td>\n",
       "      <td>simple_pass</td>\n",
       "    </tr>\n",
       "    <tr>\n",
       "      <th>1324845</th>\n",
       "      <td>1.0</td>\n",
       "      <td>32.599976</td>\n",
       "      <td>95.000000</td>\n",
       "      <td>6.0</td>\n",
       "      <td>0.0</td>\n",
       "      <td>0.0</td>\n",
       "      <td>0.0</td>\n",
       "      <td>0</td>\n",
       "      <td>1</td>\n",
       "      <td>23</td>\n",
       "      <td>1324</td>\n",
       "      <td>845</td>\n",
       "      <td>cross</td>\n",
       "    </tr>\n",
       "    <tr>\n",
       "      <th>871108</th>\n",
       "      <td>1.0</td>\n",
       "      <td>5.450000</td>\n",
       "      <td>10.000000</td>\n",
       "      <td>48.0</td>\n",
       "      <td>0.0</td>\n",
       "      <td>0.0</td>\n",
       "      <td>0.0</td>\n",
       "      <td>1</td>\n",
       "      <td>0</td>\n",
       "      <td>1</td>\n",
       "      <td>871</td>\n",
       "      <td>108</td>\n",
       "      <td>air_duel</td>\n",
       "    </tr>\n",
       "    <tr>\n",
       "      <th>1773232</th>\n",
       "      <td>2.0</td>\n",
       "      <td>13.483326</td>\n",
       "      <td>54.000004</td>\n",
       "      <td>55.0</td>\n",
       "      <td>0.0</td>\n",
       "      <td>1.0</td>\n",
       "      <td>0.0</td>\n",
       "      <td>1</td>\n",
       "      <td>2</td>\n",
       "      <td>28</td>\n",
       "      <td>1773</td>\n",
       "      <td>232</td>\n",
       "      <td>simple_pass</td>\n",
       "    </tr>\n",
       "    <tr>\n",
       "      <th>206808</th>\n",
       "      <td>0.0</td>\n",
       "      <td>13.266663</td>\n",
       "      <td>100.000000</td>\n",
       "      <td>0.0</td>\n",
       "      <td>0.0</td>\n",
       "      <td>0.0</td>\n",
       "      <td>0.0</td>\n",
       "      <td>0</td>\n",
       "      <td>0</td>\n",
       "      <td>16</td>\n",
       "      <td>206</td>\n",
       "      <td>808</td>\n",
       "      <td>goal_kick</td>\n",
       "    </tr>\n",
       "    <tr>\n",
       "      <th>1117100</th>\n",
       "      <td>1.0</td>\n",
       "      <td>17.816654</td>\n",
       "      <td>44.000000</td>\n",
       "      <td>81.0</td>\n",
       "      <td>0.0</td>\n",
       "      <td>0.0</td>\n",
       "      <td>0.0</td>\n",
       "      <td>1</td>\n",
       "      <td>0</td>\n",
       "      <td>25</td>\n",
       "      <td>1117</td>\n",
       "      <td>100</td>\n",
       "      <td>head_pass</td>\n",
       "    </tr>\n",
       "    <tr>\n",
       "      <th>952867</th>\n",
       "      <td>1.0</td>\n",
       "      <td>7.499997</td>\n",
       "      <td>71.000000</td>\n",
       "      <td>96.0</td>\n",
       "      <td>1.0</td>\n",
       "      <td>0.0</td>\n",
       "      <td>0.0</td>\n",
       "      <td>0</td>\n",
       "      <td>2</td>\n",
       "      <td>28</td>\n",
       "      <td>952</td>\n",
       "      <td>867</td>\n",
       "      <td>simple_pass</td>\n",
       "    </tr>\n",
       "  </tbody>\n",
       "</table>\n",
       "</div>"
      ],
      "text/plain": [
       "         period     minute           x     y  is_home_team  accurate  goal  \\\n",
       "1773888     2.0   7.749999   71.000000  89.0           1.0       0.0   0.0   \n",
       "850646      1.0   6.699998   61.000000  74.0           0.0       1.0   0.0   \n",
       "1565632     1.0  38.049976   47.000000  94.0           1.0       0.0   0.0   \n",
       "1256374     1.0  29.833332   60.000004   5.0           0.0       1.0   0.0   \n",
       "1324845     1.0  32.599976   95.000000   6.0           0.0       0.0   0.0   \n",
       "871108      1.0   5.450000   10.000000  48.0           0.0       0.0   0.0   \n",
       "1773232     2.0  13.483326   54.000004  55.0           0.0       1.0   0.0   \n",
       "206808      0.0  13.266663  100.000000   0.0           0.0       0.0   0.0   \n",
       "1117100     1.0  17.816654   44.000000  81.0           0.0       0.0   0.0   \n",
       "952867      1.0   7.499997   71.000000  96.0           1.0       0.0   0.0   \n",
       "\n",
       "         home_score  away_score  type_id  event_id  game_id    type_name  \n",
       "1773888           1           2       22      1773      888        touch  \n",
       "850646            0           3       28       850      646  simple_pass  \n",
       "1565632           2           2       22      1565      632        touch  \n",
       "1256374           3           0       28      1256      374  simple_pass  \n",
       "1324845           0           1       23      1324      845        cross  \n",
       "871108            1           0        1       871      108     air_duel  \n",
       "1773232           1           2       28      1773      232  simple_pass  \n",
       "206808            0           0       16       206      808    goal_kick  \n",
       "1117100           1           0       25      1117      100    head_pass  \n",
       "952867            0           2       28       952      867  simple_pass  "
      ]
     },
     "execution_count": 14,
     "metadata": {},
     "output_type": "execute_result"
    }
   ],
   "source": [
    "df_all_data.sample(10)"
   ]
  },
  {
   "cell_type": "code",
   "execution_count": null,
   "metadata": {},
   "outputs": [
    {
     "data": {
      "text/plain": [
       "(1575.54, 1612.232645403377)"
      ]
     },
     "execution_count": 15,
     "metadata": {},
     "output_type": "execute_result"
    }
   ],
   "source": [
    "df_all_data[df_all_data.period <= 1].groupby('game_id').minute.count().mean(), df_train.groupby('match_id').minute.count().mean()"
   ]
  },
  {
   "cell_type": "code",
   "execution_count": null,
   "metadata": {},
   "outputs": [
    {
     "data": {
      "image/png": "[encoded data removed]",
      "text/plain": [
       "<Figure size 800x800 with 1 Axes>"
      ]
     },
     "metadata": {},
     "output_type": "display_data"
    }
   ],
   "source": [
    "diffs = []\n",
    "for game_id in df_all_data.game_id.unique():\n",
    "    diffs.append(df_all_data[df_all_data.game_id == game_id].minute.diff().dropna().values)\n",
    "diffs = np.concatenate(diffs)\n",
    "diffs = diffs[diffs > -10]\n",
    "plt.hist(diffs, bins=100);"
   ]
  },
  {
   "cell_type": "code",
   "execution_count": null,
   "metadata": {},
   "outputs": [
    {
     "data": {
      "text/plain": [
       "(1832000, 6125.0, 3091.0, 1359.0000915527344, 1286.0000610351562)"
      ]
     },
     "execution_count": 17,
     "metadata": {},
     "output_type": "execute_result"
    }
   ],
   "source": [
    "len(df_all_data), df_all_data.goal.sum(), df_all_data[df_all_data.type_name.isin(['shot', 'penalty', 'free_kick_shot'])].goal.sum(), data.home_score.sum()*10, data.away_score.sum()*10"
   ]
  },
  {
   "cell_type": "code",
   "execution_count": null,
   "metadata": {},
   "outputs": [
    {
     "data": {
      "text/plain": [
       "[26782, 6125.0, 2821.0, 206.0, 0.0, 0.014618995633187772, 0.10533193936225824]"
      ]
     },
     "execution_count": 18,
     "metadata": {},
     "output_type": "execute_result"
    }
   ],
   "source": [
    "[\n",
    "    len(df_all_data[df_all_data.type_name == 'shot']), \n",
    "    df_all_data.goal.sum(), \n",
    "    df_all_data[df_all_data.type_name == 'shot'].goal.sum(), \n",
    "    df_all_data[df_all_data.type_name == 'penalty'].goal.sum(), \n",
    "    df_all_data[df_all_data.type_name == 'direct_free_kick'].goal.sum(), \n",
    "    len(df_all_data[df_all_data.type_name == 'shot']) / len(df_all_data), \n",
    "    df_all_data[df_all_data.type_name == 'shot'].goal.sum()/len(df_all_data[df_all_data.type_name == 'shot']),\n",
    "]"
   ]
  },
  {
   "cell_type": "code",
   "execution_count": null,
   "metadata": {},
   "outputs": [
    {
     "data": {
      "text/html": [
       "<div>\n",
       "<style scoped>\n",
       "    .dataframe tbody tr th:only-of-type {\n",
       "        vertical-align: middle;\n",
       "    }\n",
       "\n",
       "    .dataframe tbody tr th {\n",
       "        vertical-align: top;\n",
       "    }\n",
       "\n",
       "    .dataframe thead th {\n",
       "        text-align: right;\n",
       "    }\n",
       "</style>\n",
       "<table border=\"1\" class=\"dataframe\">\n",
       "  <thead>\n",
       "    <tr style=\"text-align: right;\">\n",
       "      <th></th>\n",
       "      <th>goal</th>\n",
       "      <th>goal/shot</th>\n",
       "      <th>shot</th>\n",
       "      <th>simple_pass</th>\n",
       "      <th>ground_attacking_duel</th>\n",
       "      <th>ground_defending_duel</th>\n",
       "      <th>touch</th>\n",
       "      <th>air_duel</th>\n",
       "      <th>high_pass</th>\n",
       "      <th>throw_in</th>\n",
       "      <th>cross</th>\n",
       "      <th>free_kick</th>\n",
       "      <th>foul</th>\n",
       "    </tr>\n",
       "  </thead>\n",
       "  <tbody>\n",
       "    <tr>\n",
       "      <th>0</th>\n",
       "      <td>0.334</td>\n",
       "      <td>10.533</td>\n",
       "      <td>1.46</td>\n",
       "      <td>42.8</td>\n",
       "      <td>8.1</td>\n",
       "      <td>8.3</td>\n",
       "      <td>5.2</td>\n",
       "      <td>6.2</td>\n",
       "      <td>4.1</td>\n",
       "      <td>2.5</td>\n",
       "      <td>2.1</td>\n",
       "      <td>1.4</td>\n",
       "      <td>1.4</td>\n",
       "    </tr>\n",
       "    <tr>\n",
       "      <th>1</th>\n",
       "      <td>0.333</td>\n",
       "      <td>10.291</td>\n",
       "      <td>1.40</td>\n",
       "      <td>41.4</td>\n",
       "      <td>9.1</td>\n",
       "      <td>9.0</td>\n",
       "      <td>5.7</td>\n",
       "      <td>5.2</td>\n",
       "      <td>4.2</td>\n",
       "      <td>2.8</td>\n",
       "      <td>2.0</td>\n",
       "      <td>1.5</td>\n",
       "      <td>1.6</td>\n",
       "    </tr>\n",
       "  </tbody>\n",
       "</table>\n",
       "</div>"
      ],
      "text/plain": [
       "    goal  goal/shot  shot  simple_pass  ground_attacking_duel  \\\n",
       "0  0.334     10.533  1.46         42.8                    8.1   \n",
       "1  0.333     10.291  1.40         41.4                    9.1   \n",
       "\n",
       "   ground_defending_duel  touch  air_duel  high_pass  throw_in  cross  \\\n",
       "0                    8.3    5.2       6.2        4.1       2.5    2.1   \n",
       "1                    9.0    5.7       5.2        4.2       2.8    2.0   \n",
       "\n",
       "   free_kick  foul  \n",
       "0        1.4   1.4  \n",
       "1        1.5   1.6  "
      ]
     },
     "execution_count": 19,
     "metadata": {},
     "output_type": "execute_result"
    }
   ],
   "source": [
    "pd.DataFrame([{\n",
    "    'goal': round(df_all_data['goal'].sum() / len(df_all_data) * 100,3),\n",
    "    'goal/shot': round(df_all_data[df_all_data.type_name == 'shot'].goal.sum() / len(df_all_data[df_all_data.type_name == 'shot']) * 100,3),\n",
    "    'shot': round(len(df_all_data[df_all_data.type_name == 'shot']) / len(df_all_data) * 100,2), \n",
    "    'simple_pass': round(len(df_all_data[df_all_data.type_name == 'simple_pass']) / len(df_all_data) * 100,1), \n",
    "    'ground_attacking_duel': round(len(df_all_data[df_all_data.type_name == 'ground_attacking_duel']) / len(df_all_data) * 100,1), \n",
    "    'ground_defending_duel': round(len(df_all_data[df_all_data.type_name == 'ground_defending_duel']) / len(df_all_data) * 100,1), \n",
    "    'touch': round(len(df_all_data[df_all_data.type_name == 'touch']) / len(df_all_data) * 100,1), \n",
    "    'air_duel': round(len(df_all_data[df_all_data.type_name == 'air_duel']) / len(df_all_data) * 100,1), \n",
    "    'high_pass': round(len(df_all_data[df_all_data.type_name == 'high_pass']) / len(df_all_data) * 100,1), \n",
    "    'throw_in': round(len(df_all_data[df_all_data.type_name == 'throw_in']) / len(df_all_data) * 100,1), \n",
    "    'cross': round(len(df_all_data[df_all_data.type_name == 'cross']) / len(df_all_data) * 100,1), \n",
    "    'free_kick': round(len(df_all_data[df_all_data.type_name == 'free_kick']) / len(df_all_data) * 100,1), \n",
    "    'foul': round(len(df_all_data[df_all_data.type_name == 'foul']) / len(df_all_data) * 100,1), \n",
    "},\n",
    "{\n",
    "    'goal': round(df_train['goal'].sum() / len(df_train) * 100,3),\n",
    "    'goal/shot': round(df_train[df_train.subtype_name == 'shot'].goal.sum() / len(df_train[df_train.subtype_name == 'shot']) * 100,3),\n",
    "    'shot': round(len(df_train[df_train.subtype_name == 'shot']) / len(df_train) * 100,2), \n",
    "    'simple_pass': round(len(df_train[df_train.subtype_name == 'simple_pass']) / len(df_train) * 100,1), \n",
    "    'ground_attacking_duel': round(len(df_train[df_train.subtype_name == 'ground_attacking_duel']) / len(df_train) * 100,1), \n",
    "    'ground_defending_duel': round(len(df_train[df_train.subtype_name == 'ground_defending_duel']) / len(df_train) * 100,1), \n",
    "    'touch': round(len(df_train[df_train.subtype_name == 'touch']) / len(df_train) * 100,1), \n",
    "    'air_duel': round(len(df_train[df_train.subtype_name == 'air_duel']) / len(df_train) * 100,1), \n",
    "    'high_pass': round(len(df_train[df_train.subtype_name == 'high_pass']) / len(df_train) * 100,1), \n",
    "    'throw_in': round(len(df_train[df_train.subtype_name == 'throw_in']) / len(df_train) * 100,1), \n",
    "    'cross': round(len(df_train[df_train.subtype_name == 'cross']) / len(df_train) * 100,1), \n",
    "    'free_kick': round(len(df_train[df_train.subtype_name == 'free_kick']) / len(df_train) * 100,1), \n",
    "    'foul': round(len(df_train[df_train.subtype_name == 'foul']) / len(df_train) * 100,1), \n",
    "}])"
   ]
  },
  {
   "cell_type": "code",
   "execution_count": null,
   "metadata": {},
   "outputs": [
    {
     "data": {
      "text/plain": [
       "goal  type_name              \n",
       "0.0   simple_pass                784870\n",
       "      ground_defending_duel      152692\n",
       "      ground_attacking_duel      148491\n",
       "      air_duel                   112901\n",
       "      touch                       95073\n",
       "      ground_loose_ball_duel      90964\n",
       "      high_pass                   75596\n",
       "      head_pass                   54464\n",
       "      throw_in                    45610\n",
       "      cross                       38416\n",
       "      clearance                   31803\n",
       "      foul                        26541\n",
       "      free_kick                   25933\n",
       "      shot                        23961\n",
       "      launch                      23424\n",
       "      goal_kick                   18197\n",
       "      smart_pass                  16384\n",
       "      acceleration                15629\n",
       "      corner                      13428\n",
       "      hand_pass                    9688\n",
       "      free_kick_cross              5145\n",
       "      save_attempt                 4925\n",
       "      reflexes                     4550\n",
       "      goalkeeper_leaving_line      4286\n",
       "1.0   shot                         2821\n",
       "      reflexes                     2406\n",
       "0.0   free_kick_shot               1159\n",
       "      hand_foul                    1083\n",
       "1.0   save_attempt                  606\n",
       "      penalty                       206\n",
       "0.0   out_of_game_foul              189\n",
       "      protest                       166\n",
       "      late_card_foul                132\n",
       "      penalty                        89\n",
       "1.0   free_kick_shot                 64\n",
       "0.0   time_lost_foul                 47\n",
       "      simulation                     35\n",
       "1.0   clearance                      10\n",
       "0.0   violent_foul                    4\n",
       "1.0   ground_defending_duel           4\n",
       "      cross                           3\n",
       "      launch                          3\n",
       "      smart_pass                      1\n",
       "      touch                           1\n",
       "dtype: int64"
      ]
     },
     "execution_count": 20,
     "metadata": {},
     "output_type": "execute_result"
    }
   ],
   "source": [
    "df_all_data[['goal', 'type_name']].value_counts()"
   ]
  }
 ],
 "metadata": {
  "kernelspec": {
   "display_name": "Python 3",
   "language": "python",
   "name": "python3"
  },
  "language_info": {
   "codemirror_mode": {
    "name": "ipython",
    "version": 3
   },
   "file_extension": ".py",
   "mimetype": "text/x-python",
   "name": "python",
   "nbconvert_exporter": "python",
   "pygments_lexer": "ipython3",
   "version": "3.10.9"
  },
  "orig_nbformat": 4
 },
 "nbformat": 4,
 "nbformat_minor": 2
}

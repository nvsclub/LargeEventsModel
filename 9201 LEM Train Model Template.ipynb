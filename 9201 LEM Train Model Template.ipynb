{
 "cells": [
  {
   "cell_type": "code",
   "execution_count": 1,
   "metadata": {},
   "outputs": [],
   "source": [
    "import pandas as pd\n",
    "from lib.data_utils import *\n",
    "from lib.model_utils import *\n",
    "from tqdm import tqdm\n",
    "import numpy as np\n",
    "import matplotlib.pyplot as plt\n",
    "import time\n",
    "\n",
    "import torch\n",
    "import torch.optim as optim\n",
    "from torch.utils.data import DataLoader, TensorDataset\n",
    "\n",
    "from sklearn.metrics import log_loss\n",
    "\n",
    "import optuna"
   ]
  },
  {
   "cell_type": "code",
   "execution_count": 2,
   "metadata": {},
   "outputs": [],
   "source": [
    "MODEL_TYPE = 'TYPE'\n",
    "MODEL_NAME = f'LEMv3_MODEL_{MODEL_TYPE}_TORCH'"
   ]
  },
  {
   "cell_type": "code",
   "execution_count": 3,
   "metadata": {},
   "outputs": [],
   "source": [
    "device = torch.device(\"cpu\")"
   ]
  },
  {
   "attachments": {},
   "cell_type": "markdown",
   "metadata": {},
   "source": [
    "# Loading and Preprocessing Data"
   ]
  },
  {
   "cell_type": "code",
   "execution_count": 4,
   "metadata": {},
   "outputs": [],
   "source": [
    "df_train, df_train_y, df_optimization, df_optimization_y, df_test, df_test_y, complete_feature_set, features_model = load_model_training_data_template(train_sets = ['data/wyscout/csv/events/Italy.csv', 'data/wyscout/csv/events/Germany.csv', 'data/wyscout/csv/events/France.csv'], optimization_sets = ['data/wyscout/csv/events/Italy.csv',], test_sets = ['data/wyscout/csv/events/Spain.csv', 'data/wyscout/csv/events/England.csv'])"
   ]
  },
  {
   "cell_type": "code",
   "execution_count": 5,
   "metadata": {},
   "outputs": [
    {
     "name": "stdout",
     "output_type": "stream",
     "text": [
      "['next_action_type_1', 'next_action_type_2', 'next_action_type_3', 'next_action_type_4', 'next_action_type_5', 'next_action_type_6', 'next_action_type_7', 'next_action_type_8', 'next_action_type_9', 'next_action_type_10', 'next_action_type_11', 'next_action_type_12', 'next_action_type_13', 'next_action_type_14', 'next_action_type_15', 'next_action_type_16', 'next_action_type_17', 'next_action_type_18', 'next_action_type_19', 'next_action_type_20', 'next_action_type_21', 'next_action_type_22', 'next_action_type_23', 'next_action_type_24', 'next_action_type_25', 'next_action_type_26', 'next_action_type_27', 'next_action_type_28', 'next_action_type_29', 'next_action_type_30', 'next_action_type_31', 'next_action_type_32', 'next_action_type_33']\n"
     ]
    }
   ],
   "source": [
    "print(list(df_train_y[MODEL_TYPE].columns))"
   ]
  },
  {
   "cell_type": "code",
   "execution_count": 6,
   "metadata": {},
   "outputs": [
    {
     "name": "stdout",
     "output_type": "stream",
     "text": [
      "['subtype_id_1', 'subtype_id_2', 'subtype_id_3', 'subtype_id_4', 'subtype_id_5', 'subtype_id_6', 'subtype_id_7', 'subtype_id_8', 'subtype_id_9', 'subtype_id_10', 'subtype_id_11', 'subtype_id_12', 'subtype_id_13', 'subtype_id_14', 'subtype_id_15', 'subtype_id_16', 'subtype_id_17', 'subtype_id_18', 'subtype_id_19', 'subtype_id_20', 'subtype_id_21', 'subtype_id_22', 'subtype_id_23', 'subtype_id_24', 'subtype_id_25', 'subtype_id_26', 'subtype_id_27', 'subtype_id_28', 'subtype_id_29', 'subtype_id_30', 'subtype_id_31', 'subtype_id_32', 'subtype_id_33', 'period', 'minute', 'x', 'y', 'is_home_team', 'accurate', 'goal', 'home_score', 'away_score']\n"
     ]
    }
   ],
   "source": [
    "features = features_model[MODEL_TYPE]\n",
    "print(features)"
   ]
  },
  {
   "cell_type": "code",
   "execution_count": 7,
   "metadata": {},
   "outputs": [],
   "source": [
    "X_train = df_train[features].astype(float).values\n",
    "x_optimization = df_optimization[features].astype(float).values\n",
    "X_test = df_test[features].astype(float).values\n",
    "\n",
    "Y_train = df_train_y[MODEL_TYPE].astype(float).values\n",
    "Y_optimization = df_optimization_y[MODEL_TYPE].astype(float).values\n",
    "Y_test = df_test_y[MODEL_TYPE].astype(float).values\n",
    "\n",
    "# Convert numpy arrays to PyTorch tensors\n",
    "X_train_tensor = torch.tensor(X_train, dtype=torch.float32)\n",
    "X_optimization_tensor = torch.tensor(x_optimization, dtype=torch.float32)\n",
    "X_test_tensor = torch.tensor(X_test, dtype=torch.float32)\n",
    "\n",
    "Y_train_tensor = torch.tensor(Y_train, dtype=torch.float32)\n",
    "Y_optimization_tensor = torch.tensor(Y_optimization, dtype=torch.float32)\n",
    "Y_test_tensor = torch.tensor(Y_test, dtype=torch.float32)\n",
    "\n",
    "# Create datasets\n",
    "train_dataset = TensorDataset(X_train_tensor, Y_train_tensor)\n",
    "optimization_dataset = TensorDataset(X_optimization_tensor, Y_optimization_tensor)\n",
    "test_dataset = TensorDataset(X_test_tensor, Y_test_tensor)\n",
    "\n",
    "# Create dataloaders\n",
    "train_dataloader = DataLoader(train_dataset, batch_size=256, shuffle=True)\n",
    "optimization_dataloader = DataLoader(optimization_dataset, batch_size=256, shuffle=False)\n",
    "test_dataloader = DataLoader(test_dataset, batch_size=256, shuffle=False)\n",
    "\n",
    "input_size = X_train.shape[1]\n",
    "output_size = Y_train.shape[1]"
   ]
  },
  {
   "attachments": {},
   "cell_type": "markdown",
   "metadata": {},
   "source": [
    "# Tunning Model"
   ]
  },
  {
   "cell_type": "code",
   "execution_count": 8,
   "metadata": {},
   "outputs": [],
   "source": [
    "ENABLE_TUNING = True\n",
    "TUNNING_COMPLEXITY_PENALTY = 0.001\n",
    "TUNNING_TRAIN_TEST_SPLIT = 0.7\n",
    "TUNNING_N_TRIALS = 40"
   ]
  },
  {
   "cell_type": "code",
   "execution_count": 9,
   "metadata": {},
   "outputs": [
    {
     "name": "stderr",
     "output_type": "stream",
     "text": [
      "\u001b[32m[I 2023-05-10 18:10:39,929]\u001b[0m A new study created in memory with name: no-name-1f8e2524-9fd3-4776-9b0f-0a1a0e690a71\u001b[0m\n",
      "\u001b[32m[I 2023-05-10 18:13:51,470]\u001b[0m Trial 0 finished with value: 1.5263919666502737 and parameters: {'hidden_size': 1, 'hidden_size_0': 4, 'hidden_size_1': 4, 'hidden_size_2': 5, 'lr': 0.010777963650332883, 'batch_size': 5, 'activation': 'sigmoid'}. Best is trial 0 with value: 1.5263919666502737.\u001b[0m\n",
      "\u001b[32m[I 2023-05-10 18:15:00,842]\u001b[0m Trial 1 finished with value: 2.318062956872209 and parameters: {'hidden_size': 3, 'hidden_size_0': 4, 'hidden_size_1': 8, 'hidden_size_2': 4, 'lr': 0.06890242028807815, 'batch_size': 7, 'activation': 'tanh'}. Best is trial 0 with value: 1.5263919666502737.\u001b[0m\n",
      "\u001b[32m[I 2023-05-10 18:16:26,050]\u001b[0m Trial 2 finished with value: 2.025414994316115 and parameters: {'hidden_size': 2, 'hidden_size_0': 7, 'hidden_size_1': 5, 'hidden_size_2': 7, 'lr': 0.04956725313836901, 'batch_size': 6, 'activation': 'sigmoid'}. Best is trial 0 with value: 1.5263919666502737.\u001b[0m\n",
      "\u001b[32m[I 2023-05-10 18:17:42,452]\u001b[0m Trial 3 finished with value: 2.2866976958849174 and parameters: {'hidden_size': 3, 'hidden_size_0': 5, 'hidden_size_1': 8, 'hidden_size_2': 4, 'lr': 0.013572723814885336, 'batch_size': 6, 'activation': 'tanh'}. Best is trial 0 with value: 1.5263919666502737.\u001b[0m\n",
      "\u001b[32m[I 2023-05-10 18:20:51,038]\u001b[0m Trial 4 finished with value: 1.5162138233411009 and parameters: {'hidden_size': 2, 'hidden_size_0': 6, 'hidden_size_1': 4, 'hidden_size_2': 8, 'lr': 0.009855691743544944, 'batch_size': 8, 'activation': 'tanh'}. Best is trial 4 with value: 1.5162138233411009.\u001b[0m\n",
      "\u001b[32m[I 2023-05-10 18:23:47,833]\u001b[0m Trial 5 finished with value: 1.7188600404769552 and parameters: {'hidden_size': 3, 'hidden_size_0': 7, 'hidden_size_1': 7, 'hidden_size_2': 5, 'lr': 0.015630759638789644, 'batch_size': 9, 'activation': 'tanh'}. Best is trial 4 with value: 1.5162138233411009.\u001b[0m\n",
      "\u001b[32m[I 2023-05-10 18:24:34,768]\u001b[0m Trial 6 finished with value: 1.927343133363565 and parameters: {'hidden_size': 3, 'hidden_size_0': 7, 'hidden_size_1': 6, 'hidden_size_2': 4, 'lr': 0.09666119562719984, 'batch_size': 7, 'activation': 'relu'}. Best is trial 4 with value: 1.5162138233411009.\u001b[0m\n",
      "\u001b[32m[I 2023-05-10 18:27:05,204]\u001b[0m Trial 7 finished with value: 1.528448864066993 and parameters: {'hidden_size': 2, 'hidden_size_0': 5, 'hidden_size_1': 8, 'hidden_size_2': 5, 'lr': 0.032105743781406376, 'batch_size': 10, 'activation': 'tanh'}. Best is trial 4 with value: 1.5162138233411009.\u001b[0m\n",
      "\u001b[32m[I 2023-05-10 18:28:04,511]\u001b[0m Trial 8 finished with value: 3.7301718976040257 and parameters: {'hidden_size': 2, 'hidden_size_0': 8, 'hidden_size_1': 6, 'hidden_size_2': 6, 'lr': 0.09532832299779179, 'batch_size': 6, 'activation': 'tanh'}. Best is trial 4 with value: 1.5162138233411009.\u001b[0m\n",
      "\u001b[32m[I 2023-05-10 18:29:12,343]\u001b[0m Trial 9 finished with value: 20.313325692193747 and parameters: {'hidden_size': 3, 'hidden_size_0': 7, 'hidden_size_1': 4, 'hidden_size_2': 8, 'lr': 0.060349475580673724, 'batch_size': 8, 'activation': 'tanh'}. Best is trial 4 with value: 1.5162138233411009.\u001b[0m\n",
      "\u001b[32m[I 2023-05-10 18:31:33,864]\u001b[0m Trial 10 finished with value: 1.4921191543592043 and parameters: {'hidden_size': 1, 'hidden_size_0': 6, 'hidden_size_1': 5, 'hidden_size_2': 8, 'lr': 0.006857453693145558, 'batch_size': 9, 'activation': 'relu'}. Best is trial 10 with value: 1.4921191543592043.\u001b[0m\n",
      "\u001b[32m[I 2023-05-10 18:34:43,086]\u001b[0m Trial 11 finished with value: 1.4906648631675807 and parameters: {'hidden_size': 1, 'hidden_size_0': 6, 'hidden_size_1': 5, 'hidden_size_2': 8, 'lr': 0.003893146245145807, 'batch_size': 9, 'activation': 'relu'}. Best is trial 11 with value: 1.4906648631675807.\u001b[0m\n",
      "\u001b[32m[I 2023-05-10 18:47:48,608]\u001b[0m Trial 12 finished with value: 1.5126569021966425 and parameters: {'hidden_size': 1, 'hidden_size_0': 6, 'hidden_size_1': 5, 'hidden_size_2': 7, 'lr': 0.0004406093339150664, 'batch_size': 10, 'activation': 'relu'}. Best is trial 11 with value: 1.4906648631675807.\u001b[0m\n",
      "\u001b[32m[I 2023-05-10 18:49:19,675]\u001b[0m Trial 13 finished with value: 1.5224638006553874 and parameters: {'hidden_size': 1, 'hidden_size_0': 5, 'hidden_size_1': 5, 'hidden_size_2': 7, 'lr': 0.030420707866937333, 'batch_size': 9, 'activation': 'relu'}. Best is trial 11 with value: 1.4906648631675807.\u001b[0m\n",
      "\u001b[32m[I 2023-05-10 18:51:00,066]\u001b[0m Trial 14 finished with value: 1.5046408848177013 and parameters: {'hidden_size': 1, 'hidden_size_0': 6, 'hidden_size_1': 5, 'hidden_size_2': 8, 'lr': 0.027596900053821576, 'batch_size': 9, 'activation': 'relu'}. Best is trial 11 with value: 1.4906648631675807.\u001b[0m\n",
      "\u001b[32m[I 2023-05-10 18:52:05,772]\u001b[0m Trial 15 finished with value: 1.527113231991252 and parameters: {'hidden_size': 1, 'hidden_size_0': 5, 'hidden_size_1': 6, 'hidden_size_2': 7, 'lr': 0.023651221638112712, 'batch_size': 9, 'activation': 'relu'}. Best is trial 11 with value: 1.4906648631675807.\u001b[0m\n",
      "\u001b[32m[I 2023-05-10 19:06:17,194]\u001b[0m Trial 16 finished with value: 1.4916700622883712 and parameters: {'hidden_size': 1, 'hidden_size_0': 8, 'hidden_size_1': 7, 'hidden_size_2': 8, 'lr': 0.00035953945132454444, 'batch_size': 10, 'activation': 'relu'}. Best is trial 11 with value: 1.4906648631675807.\u001b[0m\n",
      "\u001b[32m[I 2023-05-10 19:10:01,961]\u001b[0m Trial 17 finished with value: 1.4866794321717023 and parameters: {'hidden_size': 1, 'hidden_size_0': 8, 'hidden_size_1': 7, 'hidden_size_2': 6, 'lr': 0.002650957700477786, 'batch_size': 10, 'activation': 'relu'}. Best is trial 17 with value: 1.4866794321717023.\u001b[0m\n",
      "\u001b[32m[I 2023-05-10 19:12:42,515]\u001b[0m Trial 18 finished with value: 1.4990188996708709 and parameters: {'hidden_size': 2, 'hidden_size_0': 8, 'hidden_size_1': 7, 'hidden_size_2': 6, 'lr': 0.018676852669482488, 'batch_size': 10, 'activation': 'relu'}. Best is trial 17 with value: 1.4866794321717023.\u001b[0m\n",
      "\u001b[32m[I 2023-05-10 19:13:57,760]\u001b[0m Trial 19 finished with value: 1.5037144553754065 and parameters: {'hidden_size': 1, 'hidden_size_0': 7, 'hidden_size_1': 7, 'hidden_size_2': 6, 'lr': 0.03789218852611222, 'batch_size': 8, 'activation': 'sigmoid'}. Best is trial 17 with value: 1.4866794321717023.\u001b[0m\n",
      "\u001b[32m[I 2023-05-10 19:15:13,661]\u001b[0m Trial 20 finished with value: 1.5078924939549558 and parameters: {'hidden_size': 2, 'hidden_size_0': 8, 'hidden_size_1': 6, 'hidden_size_2': 7, 'lr': 0.021195520651624434, 'batch_size': 10, 'activation': 'relu'}. Best is trial 17 with value: 1.4866794321717023.\u001b[0m\n",
      "\u001b[32m[I 2023-05-10 19:24:44,828]\u001b[0m Trial 21 finished with value: 1.489681807796335 and parameters: {'hidden_size': 1, 'hidden_size_0': 8, 'hidden_size_1': 7, 'hidden_size_2': 6, 'lr': 0.0006132980586164201, 'batch_size': 10, 'activation': 'relu'}. Best is trial 17 with value: 1.4866794321717023.\u001b[0m\n",
      "\u001b[32m[I 2023-05-10 19:30:15,163]\u001b[0m Trial 22 finished with value: 1.490847308434137 and parameters: {'hidden_size': 1, 'hidden_size_0': 8, 'hidden_size_1': 7, 'hidden_size_2': 6, 'lr': 0.0009152116169676944, 'batch_size': 10, 'activation': 'relu'}. Best is trial 17 with value: 1.4866794321717023.\u001b[0m\n",
      "\u001b[32m[I 2023-05-10 19:32:27,280]\u001b[0m Trial 23 finished with value: 1.4909456131013112 and parameters: {'hidden_size': 1, 'hidden_size_0': 7, 'hidden_size_1': 7, 'hidden_size_2': 6, 'lr': 0.007408882584819602, 'batch_size': 9, 'activation': 'relu'}. Best is trial 17 with value: 1.4866794321717023.\u001b[0m\n",
      "\u001b[32m[I 2023-05-10 19:34:28,698]\u001b[0m Trial 24 finished with value: 1.4932689933194894 and parameters: {'hidden_size': 1, 'hidden_size_0': 8, 'hidden_size_1': 8, 'hidden_size_2': 5, 'lr': 0.019309634493651497, 'batch_size': 10, 'activation': 'relu'}. Best is trial 17 with value: 1.4866794321717023.\u001b[0m\n",
      "\u001b[32m[I 2023-05-10 19:36:15,688]\u001b[0m Trial 25 finished with value: 1.4941094434971058 and parameters: {'hidden_size': 1, 'hidden_size_0': 7, 'hidden_size_1': 6, 'hidden_size_2': 6, 'lr': 0.008792730453907894, 'batch_size': 9, 'activation': 'relu'}. Best is trial 17 with value: 1.4866794321717023.\u001b[0m\n",
      "\u001b[32m[I 2023-05-10 19:38:17,262]\u001b[0m Trial 26 finished with value: 1.4923913363399581 and parameters: {'hidden_size': 1, 'hidden_size_0': 6, 'hidden_size_1': 7, 'hidden_size_2': 5, 'lr': 0.015849332605230197, 'batch_size': 8, 'activation': 'sigmoid'}. Best is trial 17 with value: 1.4866794321717023.\u001b[0m\n",
      "\u001b[32m[I 2023-05-10 19:53:24,889]\u001b[0m Trial 27 finished with value: 1.548071300447489 and parameters: {'hidden_size': 2, 'hidden_size_0': 8, 'hidden_size_1': 6, 'hidden_size_2': 7, 'lr': 2.5616796041766365e-05, 'batch_size': 10, 'activation': 'relu'}. Best is trial 17 with value: 1.4866794321717023.\u001b[0m\n",
      "\u001b[32m[I 2023-05-10 19:55:20,778]\u001b[0m Trial 28 finished with value: 1.4909804468569356 and parameters: {'hidden_size': 1, 'hidden_size_0': 7, 'hidden_size_1': 8, 'hidden_size_2': 6, 'lr': 0.0076414804248794346, 'batch_size': 9, 'activation': 'relu'}. Best is trial 17 with value: 1.4866794321717023.\u001b[0m\n",
      "\u001b[32m[I 2023-05-10 19:59:23,258]\u001b[0m Trial 29 finished with value: 1.4904957158363772 and parameters: {'hidden_size': 1, 'hidden_size_0': 6, 'hidden_size_1': 4, 'hidden_size_2': 5, 'lr': 0.011596071277330118, 'batch_size': 10, 'activation': 'sigmoid'}. Best is trial 17 with value: 1.4866794321717023.\u001b[0m\n",
      "\u001b[32m[I 2023-05-10 20:02:07,617]\u001b[0m Trial 30 finished with value: 1.529234271161687 and parameters: {'hidden_size': 1, 'hidden_size_0': 4, 'hidden_size_1': 4, 'hidden_size_2': 5, 'lr': 0.01198932787664843, 'batch_size': 5, 'activation': 'sigmoid'}. Best is trial 17 with value: 1.4866794321717023.\u001b[0m\n",
      "\u001b[32m[I 2023-05-10 20:08:24,109]\u001b[0m Trial 31 finished with value: 1.4916645697513526 and parameters: {'hidden_size': 1, 'hidden_size_0': 6, 'hidden_size_1': 4, 'hidden_size_2': 6, 'lr': 0.005855890999991831, 'batch_size': 10, 'activation': 'sigmoid'}. Best is trial 17 with value: 1.4866794321717023.\u001b[0m\n",
      "\u001b[32m[I 2023-05-10 20:10:58,806]\u001b[0m Trial 32 finished with value: 1.5125368364845548 and parameters: {'hidden_size': 1, 'hidden_size_0': 5, 'hidden_size_1': 4, 'hidden_size_2': 4, 'lr': 0.0141391473570075, 'batch_size': 10, 'activation': 'sigmoid'}. Best is trial 17 with value: 1.4866794321717023.\u001b[0m\n",
      "\u001b[32m[I 2023-05-10 20:13:39,434]\u001b[0m Trial 33 finished with value: 1.4947184689559352 and parameters: {'hidden_size': 1, 'hidden_size_0': 6, 'hidden_size_1': 5, 'hidden_size_2': 5, 'lr': 0.02380110841627984, 'batch_size': 10, 'activation': 'sigmoid'}. Best is trial 17 with value: 1.4866794321717023.\u001b[0m\n",
      "\u001b[32m[I 2023-05-10 20:18:26,333]\u001b[0m Trial 34 finished with value: 1.4914370508005401 and parameters: {'hidden_size': 1, 'hidden_size_0': 6, 'hidden_size_1': 4, 'hidden_size_2': 6, 'lr': 0.004982139636006806, 'batch_size': 9, 'activation': 'sigmoid'}. Best is trial 17 with value: 1.4866794321717023.\u001b[0m\n",
      "\u001b[32m[I 2023-05-10 20:21:50,683]\u001b[0m Trial 35 finished with value: 1.5182235823055015 and parameters: {'hidden_size': 2, 'hidden_size_0': 4, 'hidden_size_1': 5, 'hidden_size_2': 4, 'lr': 0.012754134691649129, 'batch_size': 10, 'activation': 'sigmoid'}. Best is trial 17 with value: 1.4866794321717023.\u001b[0m\n",
      "\u001b[32m[I 2023-05-10 20:23:10,673]\u001b[0m Trial 36 finished with value: 1.5019541679769566 and parameters: {'hidden_size': 1, 'hidden_size_0': 6, 'hidden_size_1': 8, 'hidden_size_2': 5, 'lr': 0.0127589461342104, 'batch_size': 8, 'activation': 'relu'}. Best is trial 17 with value: 1.4866794321717023.\u001b[0m\n",
      "\u001b[32m[I 2023-05-10 20:24:45,313]\u001b[0m Trial 37 finished with value: 1.4968341152090647 and parameters: {'hidden_size': 1, 'hidden_size_0': 7, 'hidden_size_1': 6, 'hidden_size_2': 7, 'lr': 0.00516887716651274, 'batch_size': 7, 'activation': 'relu'}. Best is trial 17 with value: 1.4866794321717023.\u001b[0m\n",
      "\u001b[32m[I 2023-05-10 20:28:05,475]\u001b[0m Trial 38 finished with value: 1.500720657977279 and parameters: {'hidden_size': 2, 'hidden_size_0': 5, 'hidden_size_1': 5, 'hidden_size_2': 7, 'lr': 0.018800949084044356, 'batch_size': 9, 'activation': 'sigmoid'}. Best is trial 17 with value: 1.4866794321717023.\u001b[0m\n",
      "\u001b[32m[I 2023-05-10 20:30:19,687]\u001b[0m Trial 39 finished with value: 1.5079787236549818 and parameters: {'hidden_size': 1, 'hidden_size_0': 7, 'hidden_size_1': 7, 'hidden_size_2': 4, 'lr': 0.03751058030494133, 'batch_size': 10, 'activation': 'tanh'}. Best is trial 17 with value: 1.4866794321717023.\u001b[0m\n"
     ]
    }
   ],
   "source": [
    "if ENABLE_TUNING:\n",
    "    study = optuna.create_study(direction=\"minimize\")\n",
    "    study.optimize(lambda trial: objective(trial, X_optimization_tensor, Y_optimization_tensor, model_name=MODEL_NAME, train_test_split=TUNNING_TRAIN_TEST_SPLIT, complexity_penalty=TUNNING_COMPLEXITY_PENALTY), n_trials=TUNNING_N_TRIALS)"
   ]
  },
  {
   "cell_type": "code",
   "execution_count": 10,
   "metadata": {},
   "outputs": [
    {
     "name": "stdout",
     "output_type": "stream",
     "text": [
      "1.4866794321717023 {'hidden_size': 1, 'hidden_size_0': 8, 'hidden_size_1': 7, 'hidden_size_2': 6, 'lr': 0.002650957700477786, 'batch_size': 10, 'activation': 'relu'} 2023-05-10 19:06:17.196895 2023-05-10 19:10:01.961199\n"
     ]
    },
    {
     "ename": "FileNotFoundError",
     "evalue": "[Errno 2] No such file or directory: 'models/lem/optuna_trials/LEMv3_MODEL_TYPE_TORCH_17.pt'",
     "output_type": "error",
     "traceback": [
      "\u001b[1;31m---------------------------------------------------------------------------\u001b[0m",
      "\u001b[1;31mFileNotFoundError\u001b[0m                         Traceback (most recent call last)",
      "Cell \u001b[1;32mIn[10], line 5\u001b[0m\n\u001b[0;32m      2\u001b[0m trial \u001b[39m=\u001b[39m study\u001b[39m.\u001b[39mbest_trial\n\u001b[0;32m      3\u001b[0m \u001b[39mprint\u001b[39m(trial\u001b[39m.\u001b[39mvalue, trial\u001b[39m.\u001b[39mparams, trial\u001b[39m.\u001b[39mdatetime_start, trial\u001b[39m.\u001b[39mdatetime_complete)\n\u001b[1;32m----> 5\u001b[0m model \u001b[39m=\u001b[39m torch\u001b[39m.\u001b[39;49mload(\u001b[39mf\u001b[39;49m\u001b[39m'\u001b[39;49m\u001b[39mmodels/lem/optuna_trials/\u001b[39;49m\u001b[39m{\u001b[39;49;00mMODEL_NAME\u001b[39m}\u001b[39;49;00m\u001b[39m_\u001b[39;49m\u001b[39m{\u001b[39;49;00mtrial\u001b[39m.\u001b[39;49mnumber\u001b[39m}\u001b[39;49;00m\u001b[39m.pt\u001b[39;49m\u001b[39m'\u001b[39;49m)\n\u001b[0;32m      6\u001b[0m test_log_loss \u001b[39m=\u001b[39m evaluate_log_loss(model, optimization_dataloader, device)\n\u001b[0;32m      7\u001b[0m \u001b[39mprint\u001b[39m(\u001b[39mf\u001b[39m\u001b[39m'\u001b[39m\u001b[39mTest Log Loss: \u001b[39m\u001b[39m{\u001b[39;00mtest_log_loss\u001b[39m:\u001b[39;00m\u001b[39m.4f\u001b[39m\u001b[39m}\u001b[39;00m\u001b[39m'\u001b[39m)\n",
      "File \u001b[1;32mc:\\Users\\nvs\\AppData\\Local\\Programs\\Python\\Python310\\lib\\site-packages\\torch\\serialization.py:791\u001b[0m, in \u001b[0;36mload\u001b[1;34m(f, map_location, pickle_module, weights_only, **pickle_load_args)\u001b[0m\n\u001b[0;32m    788\u001b[0m \u001b[39mif\u001b[39;00m \u001b[39m'\u001b[39m\u001b[39mencoding\u001b[39m\u001b[39m'\u001b[39m \u001b[39mnot\u001b[39;00m \u001b[39min\u001b[39;00m pickle_load_args\u001b[39m.\u001b[39mkeys():\n\u001b[0;32m    789\u001b[0m     pickle_load_args[\u001b[39m'\u001b[39m\u001b[39mencoding\u001b[39m\u001b[39m'\u001b[39m] \u001b[39m=\u001b[39m \u001b[39m'\u001b[39m\u001b[39mutf-8\u001b[39m\u001b[39m'\u001b[39m\n\u001b[1;32m--> 791\u001b[0m \u001b[39mwith\u001b[39;00m _open_file_like(f, \u001b[39m'\u001b[39;49m\u001b[39mrb\u001b[39;49m\u001b[39m'\u001b[39;49m) \u001b[39mas\u001b[39;00m opened_file:\n\u001b[0;32m    792\u001b[0m     \u001b[39mif\u001b[39;00m _is_zipfile(opened_file):\n\u001b[0;32m    793\u001b[0m         \u001b[39m# The zipfile reader is going to advance the current file position.\u001b[39;00m\n\u001b[0;32m    794\u001b[0m         \u001b[39m# If we want to actually tail call to torch.jit.load, we need to\u001b[39;00m\n\u001b[0;32m    795\u001b[0m         \u001b[39m# reset back to the original position.\u001b[39;00m\n\u001b[0;32m    796\u001b[0m         orig_position \u001b[39m=\u001b[39m opened_file\u001b[39m.\u001b[39mtell()\n",
      "File \u001b[1;32mc:\\Users\\nvs\\AppData\\Local\\Programs\\Python\\Python310\\lib\\site-packages\\torch\\serialization.py:271\u001b[0m, in \u001b[0;36m_open_file_like\u001b[1;34m(name_or_buffer, mode)\u001b[0m\n\u001b[0;32m    269\u001b[0m \u001b[39mdef\u001b[39;00m \u001b[39m_open_file_like\u001b[39m(name_or_buffer, mode):\n\u001b[0;32m    270\u001b[0m     \u001b[39mif\u001b[39;00m _is_path(name_or_buffer):\n\u001b[1;32m--> 271\u001b[0m         \u001b[39mreturn\u001b[39;00m _open_file(name_or_buffer, mode)\n\u001b[0;32m    272\u001b[0m     \u001b[39melse\u001b[39;00m:\n\u001b[0;32m    273\u001b[0m         \u001b[39mif\u001b[39;00m \u001b[39m'\u001b[39m\u001b[39mw\u001b[39m\u001b[39m'\u001b[39m \u001b[39min\u001b[39;00m mode:\n",
      "File \u001b[1;32mc:\\Users\\nvs\\AppData\\Local\\Programs\\Python\\Python310\\lib\\site-packages\\torch\\serialization.py:252\u001b[0m, in \u001b[0;36m_open_file.__init__\u001b[1;34m(self, name, mode)\u001b[0m\n\u001b[0;32m    251\u001b[0m \u001b[39mdef\u001b[39;00m \u001b[39m__init__\u001b[39m(\u001b[39mself\u001b[39m, name, mode):\n\u001b[1;32m--> 252\u001b[0m     \u001b[39msuper\u001b[39m()\u001b[39m.\u001b[39m\u001b[39m__init__\u001b[39m(\u001b[39mopen\u001b[39;49m(name, mode))\n",
      "\u001b[1;31mFileNotFoundError\u001b[0m: [Errno 2] No such file or directory: 'models/lem/optuna_trials/LEMv3_MODEL_TYPE_TORCH_17.pt'"
     ]
    }
   ],
   "source": [
    "if ENABLE_TUNING:\n",
    "    trial = study.best_trial\n",
    "    print(trial.value, trial.params, trial.datetime_start, trial.datetime_complete)\n",
    "    \n",
    "    model = torch.load(f'models/lem/optuna_trials/{MODEL_NAME}_{trial.number}.pt')\n",
    "    test_log_loss = evaluate_log_loss(model, optimization_dataloader, device)\n",
    "    print(f'Test Log Loss: {test_log_loss:.4f}')\n",
    "\n",
    "    plt.rcParams[\"figure.figsize\"] = (20, 5)\n",
    "    plt.subplot(121)\n",
    "    probabilities = predict(model, X_optimization_tensor, device)\n",
    "    plt.hist(probabilities, bins=50);\n",
    "    plt.subplot(122)\n",
    "    plt.hist(probabilities[:,1], bins=50, color='C1')\n",
    "    plt.yscale('log');"
   ]
  },
  {
   "attachments": {},
   "cell_type": "markdown",
   "metadata": {},
   "source": [
    "# Train model"
   ]
  },
  {
   "cell_type": "code",
   "execution_count": null,
   "metadata": {},
   "outputs": [
    {
     "name": "stdout",
     "output_type": "stream",
     "text": [
      "Epoch: 1/100.. Training loss: 0.0517.. Test loss: 0.0487.. Test Log Loss: 9.2654\n",
      "Epoch: 2/100.. Training loss: 0.0482.. Test loss: 0.0480.. Test Log Loss: 9.1255\n",
      "Epoch: 3/100.. Training loss: 0.0478.. Test loss: 0.0477.. Test Log Loss: 9.0757\n",
      "Epoch: 4/100.. Training loss: 0.0476.. Test loss: 0.0475.. Test Log Loss: 9.0360\n",
      "Epoch: 5/100.. Training loss: 0.0474.. Test loss: 0.0474.. Test Log Loss: 9.0042\n",
      "Epoch: 6/100.. Training loss: 0.0472.. Test loss: 0.0473.. Test Log Loss: 8.9854\n",
      "Epoch: 7/100.. Training loss: 0.0471.. Test loss: 0.0472.. Test Log Loss: 8.9657\n",
      "Epoch: 8/100.. Training loss: 0.0470.. Test loss: 0.0471.. Test Log Loss: 8.9547\n",
      "Epoch: 9/100.. Training loss: 0.0470.. Test loss: 0.0470.. Test Log Loss: 8.9402\n",
      "Epoch: 10/100.. Training loss: 0.0469.. Test loss: 0.0470.. Test Log Loss: 8.9332\n",
      "Epoch: 11/100.. Training loss: 0.0468.. Test loss: 0.0469.. Test Log Loss: 8.9192\n",
      "Epoch: 12/100.. Training loss: 0.0468.. Test loss: 0.0469.. Test Log Loss: 8.9153\n",
      "Epoch: 13/100.. Training loss: 0.0467.. Test loss: 0.0468.. Test Log Loss: 8.9040\n",
      "Epoch: 14/100.. Training loss: 0.0467.. Test loss: 0.0468.. Test Log Loss: 8.8936\n",
      "Epoch: 15/100.. Training loss: 0.0466.. Test loss: 0.0467.. Test Log Loss: 8.8848\n",
      "Epoch: 16/100.. Training loss: 0.0466.. Test loss: 0.0467.. Test Log Loss: 8.8818\n",
      "Epoch: 17/100.. Training loss: 0.0466.. Test loss: 0.0467.. Test Log Loss: 8.8729\n",
      "Epoch: 18/100.. Training loss: 0.0465.. Test loss: 0.0466.. Test Log Loss: 8.8695\n",
      "Epoch: 19/100.. Training loss: 0.0465.. Test loss: 0.0466.. Test Log Loss: 8.8632\n",
      "Epoch: 20/100.. Training loss: 0.0465.. Test loss: 0.0466.. Test Log Loss: 8.8578\n",
      "Epoch: 21/100.. Training loss: 0.0464.. Test loss: 0.0466.. Test Log Loss: 8.8591\n",
      "Epoch: 22/100.. Training loss: 0.0464.. Test loss: 0.0465.. Test Log Loss: 8.8511\n",
      "Epoch: 23/100.. Training loss: 0.0464.. Test loss: 0.0465.. Test Log Loss: 8.8476\n",
      "Epoch: 24/100.. Training loss: 0.0464.. Test loss: 0.0465.. Test Log Loss: 8.8422\n",
      "Epoch: 25/100.. Training loss: 0.0463.. Test loss: 0.0465.. Test Log Loss: 8.8416\n",
      "Epoch: 26/100.. Training loss: 0.0463.. Test loss: 0.0465.. Test Log Loss: 8.8395\n",
      "Epoch: 27/100.. Training loss: 0.0463.. Test loss: 0.0464.. Test Log Loss: 8.8349\n",
      "Epoch: 28/100.. Training loss: 0.0463.. Test loss: 0.0464.. Test Log Loss: 8.8337\n",
      "Epoch: 29/100.. Training loss: 0.0463.. Test loss: 0.0464.. Test Log Loss: 8.8356\n",
      "Epoch: 30/100.. Training loss: 0.0463.. Test loss: 0.0464.. Test Log Loss: 8.8292\n",
      "Epoch: 31/100.. Training loss: 0.0462.. Test loss: 0.0464.. Test Log Loss: 8.8247\n",
      "Epoch: 32/100.. Training loss: 0.0462.. Test loss: 0.0464.. Test Log Loss: 8.8259\n",
      "Epoch: 33/100.. Training loss: 0.0462.. Test loss: 0.0464.. Test Log Loss: 8.8262\n",
      "Epoch: 34/100.. Training loss: 0.0462.. Test loss: 0.0463.. Test Log Loss: 8.8188\n",
      "Epoch: 35/100.. Training loss: 0.0462.. Test loss: 0.0463.. Test Log Loss: 8.8178\n",
      "Epoch: 36/100.. Training loss: 0.0462.. Test loss: 0.0463.. Test Log Loss: 8.8164\n",
      "Epoch: 37/100.. Training loss: 0.0462.. Test loss: 0.0463.. Test Log Loss: 8.8178\n",
      "Epoch: 38/100.. Training loss: 0.0461.. Test loss: 0.0463.. Test Log Loss: 8.8137\n",
      "Epoch: 39/100.. Training loss: 0.0461.. Test loss: 0.0463.. Test Log Loss: 8.8112\n",
      "Epoch: 40/100.. Training loss: 0.0461.. Test loss: 0.0463.. Test Log Loss: 8.8101\n",
      "Epoch: 41/100.. Training loss: 0.0461.. Test loss: 0.0463.. Test Log Loss: 8.8080\n",
      "Epoch: 42/100.. Training loss: 0.0461.. Test loss: 0.0463.. Test Log Loss: 8.8066\n",
      "Epoch: 43/100.. Training loss: 0.0461.. Test loss: 0.0463.. Test Log Loss: 8.8083\n",
      "Epoch: 44/100.. Training loss: 0.0461.. Test loss: 0.0463.. Test Log Loss: 8.8048\n",
      "Epoch: 45/100.. Training loss: 0.0461.. Test loss: 0.0463.. Test Log Loss: 8.8034\n",
      "Epoch: 46/100.. Training loss: 0.0461.. Test loss: 0.0463.. Test Log Loss: 8.8095\n",
      "Epoch: 47/100.. Training loss: 0.0460.. Test loss: 0.0462.. Test Log Loss: 8.8018\n",
      "Epoch: 48/100.. Training loss: 0.0460.. Test loss: 0.0462.. Test Log Loss: 8.8019\n",
      "Epoch: 49/100.. Training loss: 0.0460.. Test loss: 0.0462.. Test Log Loss: 8.7982\n",
      "Epoch: 50/100.. Training loss: 0.0460.. Test loss: 0.0462.. Test Log Loss: 8.7985\n",
      "Epoch: 51/100.. Training loss: 0.0460.. Test loss: 0.0462.. Test Log Loss: 8.7958\n",
      "Epoch: 52/100.. Training loss: 0.0460.. Test loss: 0.0462.. Test Log Loss: 8.8023\n",
      "Epoch: 53/100.. Training loss: 0.0460.. Test loss: 0.0462.. Test Log Loss: 8.7969\n",
      "Epoch: 54/100.. Training loss: 0.0460.. Test loss: 0.0462.. Test Log Loss: 8.7970\n"
     ]
    }
   ],
   "source": [
    "model = MultiLayerBinaryClassifier(input_size, [256, 256, 256], output_size).to(device)\n",
    "learning_rate = 0.001\n",
    "num_epochs = 100\n",
    "patience = 3\n",
    "counter = 0\n",
    "best_val_loss = 1000\n",
    "\n",
    "optimizer = optim.Adam(model.parameters(), lr=learning_rate)\n",
    "criterion = nn.BCELoss()\n",
    "\n",
    "for epoch in range(num_epochs):\n",
    "    train_loss = train(model, train_dataloader, criterion, optimizer, device)\n",
    "    test_loss = evaluate(model, test_dataloader, criterion, device)\n",
    "    test_log_loss = evaluate_log_loss(model, test_dataloader, device)\n",
    "    print(f'Epoch: {epoch+1}/{num_epochs}.. Training loss: {train_loss:.4f}.. Test loss: {test_loss:.4f}.. Test Log Loss: {test_log_loss:.4f}')\n",
    "\n",
    "    if test_log_loss < best_val_loss:\n",
    "        best_val_loss = test_log_loss\n",
    "        counter = 0\n",
    "        torch.save(model, f'models/lem/{MODEL_NAME}.pth')\n",
    "    else:\n",
    "        counter += 1\n",
    "        if counter >= patience:\n",
    "            break"
   ]
  },
  {
   "cell_type": "code",
   "execution_count": null,
   "metadata": {},
   "outputs": [
    {
     "data": {
      "image/png": "[encoded data removed]",
      "text/plain": [
       "<Figure size 1060x680 with 1 Axes>"
      ]
     },
     "metadata": {},
     "output_type": "display_data"
    }
   ],
   "source": [
    "plt.rcParams[\"figure.figsize\"] = (10.6, 6.8)\n",
    "probabilities = predict(model, X_test_tensor, device)\n",
    "plt.hist(probabilities, bins=25);"
   ]
  }
 ],
 "metadata": {
  "kernelspec": {
   "display_name": "Python 3",
   "language": "python",
   "name": "python3"
  },
  "language_info": {
   "codemirror_mode": {
    "name": "ipython",
    "version": 3
   },
   "file_extension": ".py",
   "mimetype": "text/x-python",
   "name": "python",
   "nbconvert_exporter": "python",
   "pygments_lexer": "ipython3",
   "version": "3.10.9"
  },
  "orig_nbformat": 4
 },
 "nbformat": 4,
 "nbformat_minor": 2
}

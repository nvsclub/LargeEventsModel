{
 "cells": [
  {
   "cell_type": "code",
   "execution_count": 1,
   "metadata": {},
   "outputs": [],
   "source": [
    "from lib.data_utils import *\n",
    "from lib.model_utils import *\n",
    "from lib.simulator import *"
   ]
  },
  {
   "attachments": {},
   "cell_type": "markdown",
   "metadata": {},
   "source": [
    "# Load data & models"
   ]
  },
  {
   "attachments": {},
   "cell_type": "markdown",
   "metadata": {},
   "source": [
    "## Data"
   ]
  },
  {
   "cell_type": "code",
   "execution_count": 2,
   "metadata": {},
   "outputs": [],
   "source": [
    "df_train, df_train_y, df_optimization, df_optimization_y, df_test, df_test_y, complete_feature_set, features_model = load_model_training_data_template(train_sets = ['data/wyscout/csv/events/Italy.csv', 'data/wyscout/csv/events/Germany.csv', 'data/wyscout/csv/events/France.csv'], optimization_sets = ['data/wyscout/csv/events/Italy.csv',], test_sets = ['data/wyscout/csv/events/Spain.csv', 'data/wyscout/csv/events/England.csv'])"
   ]
  },
  {
   "cell_type": "code",
   "execution_count": 3,
   "metadata": {},
   "outputs": [],
   "source": [
    "features = features_model['TYPE']\n",
    "X_test = df_test[features].astype(float).values"
   ]
  },
  {
   "cell_type": "code",
   "execution_count": 4,
   "metadata": {},
   "outputs": [],
   "source": [
    "sim = Simulator(\n",
    "    model_type_path='models/lem/LEMv3_MODEL_TYPE_TORCH.pth',\n",
    "    model_acc_path='models/lem/LEMv4_MODEL_ACC_TORCH.pth',\n",
    "    model_data_path='models/lem/LEMv3_MODEL_DATA_TORCH.pth',\n",
    "    device = 'cuda:0')"
   ]
  },
  {
   "cell_type": "code",
   "execution_count": 5,
   "metadata": {},
   "outputs": [
    {
     "name": "stderr",
     "output_type": "stream",
     "text": [
      " 94%|█████████▍| 1883/2000 [07:28<00:27,  4.19it/s]\n",
      " 94%|█████████▎| 1874/2000 [07:24<00:29,  4.22it/s]\n",
      " 93%|█████████▎| 1861/2000 [06:50<00:30,  4.53it/s]\n",
      " 93%|█████████▎| 1864/2000 [06:51<00:30,  4.53it/s]\n",
      " 94%|█████████▍| 1886/2000 [06:55<00:25,  4.53it/s]\n",
      " 94%|█████████▎| 1872/2000 [06:53<00:28,  4.53it/s]\n",
      " 94%|█████████▍| 1883/2000 [06:55<00:25,  4.53it/s]\n",
      " 94%|█████████▍| 1887/2000 [06:56<00:24,  4.53it/s]\n",
      " 93%|█████████▎| 1858/2000 [06:49<00:31,  4.53it/s]\n",
      " 94%|█████████▍| 1890/2000 [06:56<00:24,  4.53it/s]\n",
      " 93%|█████████▎| 1860/2000 [07:38<00:34,  4.06it/s]\n",
      " 94%|█████████▍| 1885/2000 [09:58<00:36,  3.15it/s]\n",
      " 94%|█████████▍| 1889/2000 [09:35<00:33,  3.28it/s]\n",
      " 93%|█████████▎| 1851/2000 [09:45<00:47,  3.16it/s]\n",
      " 93%|█████████▎| 1861/2000 [09:40<00:43,  3.21it/s]\n",
      " 92%|█████████▏| 1843/2000 [09:40<00:49,  3.18it/s]\n",
      " 95%|█████████▍| 1894/2000 [09:09<00:30,  3.45it/s]\n",
      " 95%|█████████▌| 1908/2000 [07:21<00:21,  4.32it/s]\n",
      " 94%|█████████▍| 1890/2000 [06:57<00:24,  4.52it/s]\n",
      " 93%|█████████▎| 1853/2000 [06:52<00:32,  4.49it/s]\n",
      " 97%|█████████▋| 1940/2000 [07:12<00:13,  4.48it/s]\n",
      " 95%|█████████▍| 1892/2000 [07:05<00:24,  4.45it/s]\n",
      " 94%|█████████▍| 1879/2000 [07:00<00:27,  4.47it/s]\n",
      " 93%|█████████▎| 1853/2000 [06:55<00:32,  4.46it/s]\n",
      " 93%|█████████▎| 1864/2000 [06:58<00:30,  4.46it/s]\n",
      " 95%|█████████▌| 1906/2000 [07:07<00:21,  4.46it/s]\n",
      " 93%|█████████▎| 1853/2000 [06:56<00:33,  4.45it/s]\n",
      " 93%|█████████▎| 1863/2000 [07:01<00:30,  4.42it/s]\n",
      " 94%|█████████▎| 1873/2000 [07:53<00:32,  3.96it/s]\n",
      " 92%|█████████▏| 1846/2000 [07:47<00:39,  3.95it/s]\n",
      " 95%|█████████▍| 1895/2000 [08:07<00:26,  3.89it/s]\n",
      " 94%|█████████▍| 1875/2000 [07:58<00:31,  3.92it/s]\n",
      " 96%|█████████▌| 1912/2000 [08:06<00:22,  3.93it/s]\n",
      " 93%|█████████▎| 1860/2000 [07:16<00:32,  4.26it/s]\n",
      " 92%|█████████▎| 1850/2000 [07:34<00:36,  4.07it/s]\n",
      " 93%|█████████▎| 1860/2000 [07:37<00:34,  4.07it/s]\n",
      " 93%|█████████▎| 1860/2000 [06:49<00:30,  4.54it/s]\n",
      " 95%|█████████▍| 1896/2000 [06:51<00:22,  4.61it/s]\n",
      " 94%|█████████▍| 1880/2000 [06:47<00:26,  4.61it/s]\n",
      " 94%|█████████▎| 1871/2000 [06:45<00:27,  4.61it/s]\n",
      " 94%|█████████▍| 1876/2000 [06:46<00:26,  4.61it/s]\n",
      " 94%|█████████▍| 1876/2000 [06:52<00:27,  4.55it/s]\n",
      " 96%|█████████▌| 1920/2000 [08:54<00:22,  3.59it/s]\n",
      " 94%|█████████▎| 1873/2000 [08:02<00:32,  3.88it/s]\n",
      " 93%|█████████▎| 1864/2000 [08:03<00:35,  3.86it/s]\n",
      " 93%|█████████▎| 1851/2000 [07:56<00:38,  3.89it/s]\n",
      " 94%|█████████▍| 1886/2000 [08:00<00:29,  3.93it/s]\n",
      " 95%|█████████▍| 1893/2000 [08:05<00:27,  3.90it/s]\n",
      " 92%|█████████▏| 1846/2000 [07:51<00:39,  3.92it/s]\n",
      " 95%|█████████▌| 1901/2000 [08:00<00:25,  3.96it/s]\n",
      " 93%|█████████▎| 1866/2000 [06:58<00:30,  4.45it/s]\n",
      " 93%|█████████▎| 1867/2000 [06:48<00:29,  4.57it/s]\n",
      " 92%|█████████▏| 1841/2000 [06:40<00:34,  4.60it/s]\n",
      " 94%|█████████▍| 1889/2000 [06:49<00:24,  4.61it/s]\n",
      " 93%|█████████▎| 1869/2000 [06:45<00:28,  4.61it/s]\n",
      " 92%|█████████▏| 1842/2000 [06:39<00:34,  4.61it/s]\n",
      " 92%|█████████▏| 1845/2000 [06:39<00:33,  4.61it/s]\n",
      " 93%|█████████▎| 1861/2000 [06:43<00:30,  4.61it/s]\n",
      " 93%|█████████▎| 1863/2000 [06:43<00:29,  4.61it/s]\n",
      " 94%|█████████▎| 1871/2000 [06:45<00:27,  4.61it/s]\n",
      " 93%|█████████▎| 1851/2000 [06:41<00:32,  4.61it/s]\n",
      " 92%|█████████▏| 1835/2000 [06:37<00:35,  4.61it/s]\n",
      " 94%|█████████▎| 1873/2000 [06:46<00:27,  4.61it/s]\n",
      " 95%|█████████▍| 1891/2000 [06:49<00:23,  4.62it/s]\n",
      " 94%|█████████▍| 1881/2000 [06:56<00:26,  4.51it/s]\n",
      " 94%|█████████▍| 1887/2000 [10:17<00:37,  3.05it/s]\n",
      " 93%|█████████▎| 1861/2000 [09:54<00:44,  3.13it/s]\n",
      " 94%|█████████▎| 1871/2000 [07:54<00:32,  3.94it/s]\n",
      " 92%|█████████▏| 1845/2000 [07:34<00:38,  4.06it/s]\n",
      " 95%|█████████▌| 1903/2000 [08:09<00:24,  3.89it/s]\n",
      " 96%|█████████▌| 1923/2000 [08:56<00:21,  3.59it/s]\n",
      " 95%|█████████▍| 1896/2000 [08:42<00:28,  3.63it/s]\n",
      " 93%|█████████▎| 1852/2000 [08:42<00:41,  3.55it/s]\n",
      " 94%|█████████▍| 1878/2000 [07:23<00:28,  4.23it/s]\n",
      " 96%|█████████▌| 1913/2000 [07:22<00:20,  4.32it/s]\n",
      " 92%|█████████▏| 1847/2000 [06:47<00:33,  4.53it/s]\n",
      " 93%|█████████▎| 1852/2000 [06:48<00:32,  4.53it/s]\n",
      " 93%|█████████▎| 1866/2000 [07:43<00:33,  4.02it/s]\n",
      "  0%|          | 4/2000 [00:02<16:05,  2.07it/s]"
     ]
    }
   ],
   "source": [
    "id_offset = 250 #Implement glob count\n",
    "for i in range(200):\n",
    "    feature_tensor = sim.simulate(X_test, store_full_sim=False)\n",
    "    data = pd.DataFrame(feature_tensor.cpu())\n",
    "    data['type_id'] = data[data.columns[:33]].idxmax(axis=1) + 1\n",
    "    data = data.drop(data.columns[:33], axis=1)\n",
    "    data.columns = ['period', 'minute', 'x', 'y', 'is_home_team', 'accurate', 'goal', 'home_score', 'away_score', 'type_id']\n",
    "    data.home_score = (data.home_score * 10).astype(int)\n",
    "    data.away_score = (data.away_score * 10).astype(int)\n",
    "    data['type_name'] = data.type_id.map({v: k for k, v in SUBEVENT_TYPE_MAP.items()})\n",
    "    data.to_csv(f'data/lem/lem_sim_{id_offset+i}.csv', index=False)"
   ]
  }
 ],
 "metadata": {
  "kernelspec": {
   "display_name": "Python 3",
   "language": "python",
   "name": "python3"
  },
  "language_info": {
   "codemirror_mode": {
    "name": "ipython",
    "version": 3
   },
   "file_extension": ".py",
   "mimetype": "text/x-python",
   "name": "python",
   "nbconvert_exporter": "python",
   "pygments_lexer": "ipython3",
   "version": "3.10.9"
  },
  "orig_nbformat": 4
 },
 "nbformat": 4,
 "nbformat_minor": 2
}

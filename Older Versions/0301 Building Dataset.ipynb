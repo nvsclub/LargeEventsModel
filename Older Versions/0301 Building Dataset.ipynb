{
 "cells": [
  {
   "cell_type": "code",
   "execution_count": 1,
   "metadata": {},
   "outputs": [],
   "source": [
    "import pandas as pd\n",
    "from lib.data_utils import *\n",
    "from tqdm import tqdm"
   ]
  },
  {
   "cell_type": "code",
   "execution_count": 2,
   "metadata": {},
   "outputs": [],
   "source": [
    "def convert_to_string(row):\n",
    "    return f'{row[\"subtype_name\"]} {row[\"goal\"]} {row[\"accurate\"]} {row[\"is_home_team\"]} {row[\"period\"]} {row[\"minute\"]} {row[\"second\"]} {row[\"x\"]} {row[\"y\"]} {row[\"home_score\"]} {row[\"away_score\"]}'\n",
    "\n",
    "def convert_to_string_label(row):\n",
    "    return f'{row[\"subtype_name\"]} {row[\"goal\"]} {row[\"accurate\"]} {row[\"is_home_team\"]} {row[\"time_elapsed\"]} {row[\"x\"]} {row[\"y\"]}'"
   ]
  },
  {
   "cell_type": "code",
   "execution_count": 3,
   "metadata": {},
   "outputs": [
    {
     "data": {
      "text/plain": [
       "(1799586, 13)"
      ]
     },
     "execution_count": 3,
     "metadata": {},
     "output_type": "execute_result"
    }
   ],
   "source": [
    "data = []\n",
    "for dataset_fname in ['data/wyscout/csv/events/Germany.csv', 'data/wyscout/csv/events/France.csv','data/wyscout/csv/events/Italy.csv']:\n",
    "    df = load_data(dataset_fname)\n",
    "    df['is_home_team'] = df['team_id'] == df['home_team_id']\n",
    "\n",
    "    df['home_score'] = (\n",
    "        ((df.subtype_name == 'free_kick_shot') & (df.goal == 1) & (df.team_id == df.home_team_id)) |\n",
    "        ((df.subtype_name == 'penalty') & (df.goal == 1) & (df.team_id == df.home_team_id)) |\n",
    "        ((df.subtype_name == 'shot') & (df.goal == 1) & (df.team_id == df.home_team_id)) |\n",
    "        ((df.type_name.isin(['others_on_the_ball', 'pass'])) & (df.own_goal == 1) & (df.team_id == df.away_team_id))\n",
    "        ).cumsum()\n",
    "    df['home_score'] = df['home_score'] - df['match_id'].map(df.groupby('match_id')['home_score'].min())\n",
    "    df['away_score'] = (\n",
    "        ((df.subtype_name == 'free_kick_shot') & (df.goal == 1) & (df.team_id == df.away_team_id)) |\n",
    "        ((df.subtype_name == 'penalty') & (df.goal == 1) & (df.team_id == df.away_team_id)) |\n",
    "        ((df.subtype_name == 'shot') & (df.goal == 1) & (df.team_id == df.away_team_id)) |\n",
    "        ((df.type_name.isin(['others_on_the_ball', 'pass'])) & (df.own_goal == 1) & (df.team_id == df.home_team_id))\n",
    "        ).cumsum()\n",
    "    df['away_score'] = df['away_score'] - df['match_id'].map(df.groupby('match_id')['away_score'].min())\n",
    "\n",
    "    data.append(df[['match_id', 'subtype_name', 'period', 'minute', 'second', 'x', 'y', 'is_home_team', 'accurate', 'goal', 'home_score', 'away_score']])\n",
    "\n",
    "df = pd.concat(data)\n",
    "df['goal'] = df['goal'].astype(int)\n",
    "df['accurate'] = df['accurate'].astype(int)\n",
    "df['is_home_team'] = df['is_home_team'].astype(int)\n",
    "df.loc[df.subtype_name == 0, 'subtype_name'] = 'none'\n",
    "\n",
    "df['time_elapsed'] = (((df['minute'] * 60 + df['second']) - (df['minute'].shift(1) * 60 + df['second'].shift(1))) * (df['period'] == df['period'].shift(1))).clip(0, 100).fillna(0).astype(int)\n",
    " \n",
    "df.shape"
   ]
  },
  {
   "cell_type": "code",
   "execution_count": 4,
   "metadata": {},
   "outputs": [
    {
     "name": "stderr",
     "output_type": "stream",
     "text": [
      "100%|██████████| 1799586/1799586 [06:26<00:00, 4651.89it/s]\n"
     ]
    }
   ],
   "source": [
    "out = open('data/llm/events_train.txt', 'w')\n",
    "for i in tqdm(range(len(df))):\n",
    "    if i == len(df)-1:\n",
    "        out.write(convert_to_string(df.iloc[i]) + ' <GAME_OVER> <NaN> <NaN> <NaN> <NaN> <NaN> <NaN>\\n')\n",
    "    elif df.iloc[i]['match_id'] != df.iloc[i+1]['match_id']:\n",
    "        out.write(convert_to_string(df.iloc[i]) + ' <GAME_OVER> <NaN> <NaN> <NaN> <NaN> <NaN> <NaN>\\n')\n",
    "    elif df.iloc[i]['period'] != df.iloc[i+1]['period']:\n",
    "        out.write(convert_to_string(df.iloc[i]) + ' <PERIOD_OVER> <NaN> <NaN> <NaN> <NaN> <NaN> <NaN>\\n')\n",
    "    else:\n",
    "        out.write(convert_to_string(df.iloc[i]) + ' ' + convert_to_string_label(df.iloc[i+1]) + '\\n')\n",
    "out.close()"
   ]
  },
  {
   "cell_type": "code",
   "execution_count": 17,
   "metadata": {},
   "outputs": [
    {
     "name": "stderr",
     "output_type": "stream",
     "text": [
      "100%|█████████▉| 1799583/1799586 [14:26<00:00, 2078.03it/s]\n"
     ]
    }
   ],
   "source": [
    "out = open('data/llm/events_train_k3.txt', 'w')\n",
    "k = 3\n",
    "for i in tqdm(range(len(df))):\n",
    "    if i == len(df)-k:\n",
    "        for j in range(k):\n",
    "            out.write(convert_to_string(df.iloc[i+j]) + ' ')\n",
    "        out.write('<GAME_OVER> <NaN> <NaN> <NaN> <NaN> <NaN> <NaN>\\n')\n",
    "        break\n",
    "    elif df.iloc[i+k-1]['match_id'] != df.iloc[i+k]['match_id']:\n",
    "        for j in range(k):\n",
    "            out.write(convert_to_string(df.iloc[i+j]) + ' ')\n",
    "        out.write('<GAME_OVER> <NaN> <NaN> <NaN> <NaN> <NaN> <NaN>\\n')\n",
    "    elif df.iloc[i+k-1]['period'] != df.iloc[i+k]['period']:\n",
    "        for j in range(k):\n",
    "            out.write(convert_to_string(df.iloc[i+j]) + ' ')\n",
    "        out.write('<PERIOD_OVER> <NaN> <NaN> <NaN> <NaN> <NaN> <NaN>\\n')\n",
    "    else:\n",
    "        match_id = df.iloc[i]['match_id']\n",
    "\n",
    "        string = convert_to_string(df.iloc[i])\n",
    "        for j in range(k):\n",
    "            if j == (k-1):\n",
    "                string += ' ' + convert_to_string_label(df.iloc[i+j+1])\n",
    "            else:\n",
    "                string += ' ' + convert_to_string(df.iloc[i+j+1])\n",
    "            if match_id != df.iloc[i+j+1]['match_id']:\n",
    "                match_id = df.iloc[i+j+1]['match_id']\n",
    "                string = ''\n",
    "                for w in range(j+2):\n",
    "                    string += '<NaN> <NaN> <NaN> <NaN> <NaN> <NaN> <NaN> <NaN> <NaN> <NaN> <NaN>'\n",
    "                    if w != j+1:\n",
    "                        string += ' '\n",
    "        \n",
    "        out.write(string + '\\n')\n",
    "out.close()"
   ]
  },
  {
   "cell_type": "code",
   "execution_count": 4,
   "metadata": {},
   "outputs": [
    {
     "data": {
      "text/plain": [
       "(1271809, 13)"
      ]
     },
     "execution_count": 4,
     "metadata": {},
     "output_type": "execute_result"
    }
   ],
   "source": [
    "data = []\n",
    "for dataset_fname in ['data/wyscout/csv/events/England.csv', 'data/wyscout/csv/events/Spain.csv']:\n",
    "    df = load_data(dataset_fname)\n",
    "    df['is_home_team'] = df['team_id'] == df['home_team_id']\n",
    "\n",
    "    df['home_score'] = (\n",
    "        ((df.subtype_name == 'free_kick_shot') & (df.goal == 1) & (df.team_id == df.home_team_id)) |\n",
    "        ((df.subtype_name == 'penalty') & (df.goal == 1) & (df.team_id == df.home_team_id)) |\n",
    "        ((df.subtype_name == 'shot') & (df.goal == 1) & (df.team_id == df.home_team_id)) |\n",
    "        ((df.type_name.isin(['others_on_the_ball', 'pass'])) & (df.own_goal == 1) & (df.team_id == df.away_team_id))\n",
    "        ).cumsum()\n",
    "    df['home_score'] = df['home_score'] - df['match_id'].map(df.groupby('match_id')['home_score'].min())\n",
    "    df['away_score'] = (\n",
    "        ((df.subtype_name == 'free_kick_shot') & (df.goal == 1) & (df.team_id == df.away_team_id)) |\n",
    "        ((df.subtype_name == 'penalty') & (df.goal == 1) & (df.team_id == df.away_team_id)) |\n",
    "        ((df.subtype_name == 'shot') & (df.goal == 1) & (df.team_id == df.away_team_id)) |\n",
    "        ((df.type_name.isin(['others_on_the_ball', 'pass'])) & (df.own_goal == 1) & (df.team_id == df.home_team_id))\n",
    "        ).cumsum()\n",
    "    df['away_score'] = df['away_score'] - df['match_id'].map(df.groupby('match_id')['away_score'].min())\n",
    "\n",
    "    data.append(df[['match_id', 'subtype_name', 'period', 'minute', 'second', 'x', 'y', 'is_home_team', 'accurate', 'goal', 'home_score', 'away_score']])\n",
    "\n",
    "df = pd.concat(data)\n",
    "df['goal'] = df['goal'].astype(int)\n",
    "df['accurate'] = df['accurate'].astype(int)\n",
    "df['is_home_team'] = df['is_home_team'].astype(int)\n",
    "df.loc[df.subtype_name == 0, 'subtype_name'] = 'none'\n",
    "\n",
    "df['time_elapsed'] = (((df['minute'] * 60 + df['second']) - (df['minute'].shift(1) * 60 + df['second'].shift(1))) * (df['period'] == df['period'].shift(1))).clip(0, 100).fillna(0).astype(int)\n",
    "\n",
    "df.shape"
   ]
  },
  {
   "cell_type": "code",
   "execution_count": 8,
   "metadata": {},
   "outputs": [
    {
     "name": "stderr",
     "output_type": "stream",
     "text": [
      "100%|██████████| 1271809/1271809 [05:11<00:00, 4079.94it/s]\n"
     ]
    }
   ],
   "source": [
    "out = open('data/llm/events_test.txt', 'w')\n",
    "for i in tqdm(range(len(df))):\n",
    "    if i == len(df)-1:\n",
    "        out.write(convert_to_string(df.iloc[i]) + ' <GAME_OVER> <NaN> <NaN> <NaN> <NaN> <NaN> <NaN>\\n')\n",
    "    elif df.iloc[i]['match_id'] != df.iloc[i+1]['match_id']:\n",
    "        out.write(convert_to_string(df.iloc[i]) + ' <GAME_OVER> <NaN> <NaN> <NaN> <NaN> <NaN> <NaN>\\n')\n",
    "    elif df.iloc[i]['period'] != df.iloc[i+1]['period']:\n",
    "        out.write(convert_to_string(df.iloc[i]) + ' <PERIOD_OVER> <NaN> <NaN> <NaN> <NaN> <NaN> <NaN>\\n')\n",
    "    else:\n",
    "        out.write(convert_to_string(df.iloc[i]) + ' ' + convert_to_string_label(df.iloc[i+1]) + '\\n')\n",
    "out.close()"
   ]
  },
  {
   "cell_type": "code",
   "execution_count": 5,
   "metadata": {},
   "outputs": [
    {
     "name": "stderr",
     "output_type": "stream",
     "text": [
      "100%|█████████▉| 1271806/1271809 [09:05<00:00, 2329.85it/s]\n"
     ]
    }
   ],
   "source": [
    "out = open('data/llm/events_test_k3.txt', 'w')\n",
    "k = 3\n",
    "for i in tqdm(range(len(df))):\n",
    "    if i == len(df)-k:\n",
    "        for j in range(k):\n",
    "            out.write(convert_to_string(df.iloc[i+j]) + ' ')\n",
    "        out.write('<GAME_OVER> <NaN> <NaN> <NaN> <NaN> <NaN> <NaN>\\n')\n",
    "        break\n",
    "    elif df.iloc[i+k-1]['match_id'] != df.iloc[i+k]['match_id']:\n",
    "        for j in range(k):\n",
    "            out.write(convert_to_string(df.iloc[i+j]) + ' ')\n",
    "        out.write('<GAME_OVER> <NaN> <NaN> <NaN> <NaN> <NaN> <NaN>\\n')\n",
    "    elif df.iloc[i+k-1]['period'] != df.iloc[i+k]['period']:\n",
    "        for j in range(k):\n",
    "            out.write(convert_to_string(df.iloc[i+j]) + ' ')\n",
    "        out.write('<PERIOD_OVER> <NaN> <NaN> <NaN> <NaN> <NaN> <NaN>\\n')\n",
    "    else:\n",
    "        match_id = df.iloc[i]['match_id']\n",
    "\n",
    "        string = convert_to_string(df.iloc[i])\n",
    "        for j in range(k):\n",
    "            if j == (k-1):\n",
    "                string += ' ' + convert_to_string_label(df.iloc[i+j+1])\n",
    "            else:\n",
    "                string += ' ' + convert_to_string(df.iloc[i+j+1])\n",
    "            if match_id != df.iloc[i+j+1]['match_id']:\n",
    "                match_id = df.iloc[i+j+1]['match_id']\n",
    "                string = ''\n",
    "                for w in range(j+2):\n",
    "                    string += '<NaN> <NaN> <NaN> <NaN> <NaN> <NaN> <NaN> <NaN> <NaN> <NaN> <NaN>'\n",
    "                    if w != j+1:\n",
    "                        string += ' '\n",
    "        \n",
    "        out.write(string + '\\n')\n",
    "out.close()"
   ]
  },
  {
   "cell_type": "code",
   "execution_count": 10,
   "metadata": {},
   "outputs": [],
   "source": [
    "df = pd.read_csv('data/llm/events_test.txt', sep=' ', header=None, dtype=str)\n",
    "df = df.fillna('<NaN>')"
   ]
  },
  {
   "cell_type": "code",
   "execution_count": 11,
   "metadata": {},
   "outputs": [
    {
     "ename": "KeyError",
     "evalue": "18",
     "output_type": "error",
     "traceback": [
      "\u001b[1;31m---------------------------------------------------------------------------\u001b[0m",
      "\u001b[1;31mKeyError\u001b[0m                                  Traceback (most recent call last)",
      "File \u001b[1;32mc:\\Users\\tiago\\AppData\\Local\\Programs\\Python\\Python39\\lib\\site-packages\\pandas\\core\\indexes\\base.py:3790\u001b[0m, in \u001b[0;36mIndex.get_loc\u001b[1;34m(self, key)\u001b[0m\n\u001b[0;32m   3789\u001b[0m \u001b[38;5;28;01mtry\u001b[39;00m:\n\u001b[1;32m-> 3790\u001b[0m     \u001b[38;5;28;01mreturn\u001b[39;00m \u001b[38;5;28;43mself\u001b[39;49m\u001b[38;5;241;43m.\u001b[39;49m\u001b[43m_engine\u001b[49m\u001b[38;5;241;43m.\u001b[39;49m\u001b[43mget_loc\u001b[49m\u001b[43m(\u001b[49m\u001b[43mcasted_key\u001b[49m\u001b[43m)\u001b[49m\n\u001b[0;32m   3791\u001b[0m \u001b[38;5;28;01mexcept\u001b[39;00m \u001b[38;5;167;01mKeyError\u001b[39;00m \u001b[38;5;28;01mas\u001b[39;00m err:\n",
      "File \u001b[1;32mindex.pyx:152\u001b[0m, in \u001b[0;36mpandas._libs.index.IndexEngine.get_loc\u001b[1;34m()\u001b[0m\n",
      "File \u001b[1;32mindex.pyx:181\u001b[0m, in \u001b[0;36mpandas._libs.index.IndexEngine.get_loc\u001b[1;34m()\u001b[0m\n",
      "File \u001b[1;32mpandas\\_libs\\hashtable_class_helper.pxi:2606\u001b[0m, in \u001b[0;36mpandas._libs.hashtable.Int64HashTable.get_item\u001b[1;34m()\u001b[0m\n",
      "File \u001b[1;32mpandas\\_libs\\hashtable_class_helper.pxi:2630\u001b[0m, in \u001b[0;36mpandas._libs.hashtable.Int64HashTable.get_item\u001b[1;34m()\u001b[0m\n",
      "\u001b[1;31mKeyError\u001b[0m: 18",
      "\nThe above exception was the direct cause of the following exception:\n",
      "\u001b[1;31mKeyError\u001b[0m                                  Traceback (most recent call last)",
      "Cell \u001b[1;32mIn[11], line 4\u001b[0m\n\u001b[0;32m      2\u001b[0m \u001b[38;5;28;01mfor\u001b[39;00m i \u001b[38;5;129;01min\u001b[39;00m \u001b[38;5;28mrange\u001b[39m(\u001b[38;5;241m11\u001b[39m, \u001b[38;5;241m22\u001b[39m):\n\u001b[0;32m      3\u001b[0m     _df \u001b[38;5;241m=\u001b[39m df\u001b[38;5;241m.\u001b[39mcopy()\n\u001b[1;32m----> 4\u001b[0m     _df[\u001b[38;5;124m'\u001b[39m\u001b[38;5;124mtarget\u001b[39m\u001b[38;5;124m'\u001b[39m] \u001b[38;5;241m=\u001b[39m \u001b[43m_df\u001b[49m\u001b[43m[\u001b[49m\u001b[43mi\u001b[49m\u001b[43m]\u001b[49m\n\u001b[0;32m      6\u001b[0m     train_df\u001b[38;5;241m.\u001b[39mappend(_df\u001b[38;5;241m.\u001b[39msample(\u001b[38;5;241m1000\u001b[39m, random_state\u001b[38;5;241m=\u001b[39m\u001b[38;5;241m42\u001b[39m))\n\u001b[0;32m      7\u001b[0m     train_df[\u001b[38;5;241m-\u001b[39m\u001b[38;5;241m1\u001b[39m]\u001b[38;5;241m.\u001b[39mto_csv(\u001b[38;5;124mf\u001b[39m\u001b[38;5;124m'\u001b[39m\u001b[38;5;124mdata/llm/samples/events_test_k1_\u001b[39m\u001b[38;5;132;01m{\u001b[39;00mi\u001b[38;5;132;01m}\u001b[39;00m\u001b[38;5;124m.txt\u001b[39m\u001b[38;5;124m'\u001b[39m, sep\u001b[38;5;241m=\u001b[39m\u001b[38;5;124m'\u001b[39m\u001b[38;5;124m \u001b[39m\u001b[38;5;124m'\u001b[39m, header\u001b[38;5;241m=\u001b[39m\u001b[38;5;28;01mFalse\u001b[39;00m, index\u001b[38;5;241m=\u001b[39m\u001b[38;5;28;01mFalse\u001b[39;00m)\n",
      "File \u001b[1;32mc:\\Users\\tiago\\AppData\\Local\\Programs\\Python\\Python39\\lib\\site-packages\\pandas\\core\\frame.py:3893\u001b[0m, in \u001b[0;36mDataFrame.__getitem__\u001b[1;34m(self, key)\u001b[0m\n\u001b[0;32m   3891\u001b[0m \u001b[38;5;28;01mif\u001b[39;00m \u001b[38;5;28mself\u001b[39m\u001b[38;5;241m.\u001b[39mcolumns\u001b[38;5;241m.\u001b[39mnlevels \u001b[38;5;241m>\u001b[39m \u001b[38;5;241m1\u001b[39m:\n\u001b[0;32m   3892\u001b[0m     \u001b[38;5;28;01mreturn\u001b[39;00m \u001b[38;5;28mself\u001b[39m\u001b[38;5;241m.\u001b[39m_getitem_multilevel(key)\n\u001b[1;32m-> 3893\u001b[0m indexer \u001b[38;5;241m=\u001b[39m \u001b[38;5;28;43mself\u001b[39;49m\u001b[38;5;241;43m.\u001b[39;49m\u001b[43mcolumns\u001b[49m\u001b[38;5;241;43m.\u001b[39;49m\u001b[43mget_loc\u001b[49m\u001b[43m(\u001b[49m\u001b[43mkey\u001b[49m\u001b[43m)\u001b[49m\n\u001b[0;32m   3894\u001b[0m \u001b[38;5;28;01mif\u001b[39;00m is_integer(indexer):\n\u001b[0;32m   3895\u001b[0m     indexer \u001b[38;5;241m=\u001b[39m [indexer]\n",
      "File \u001b[1;32mc:\\Users\\tiago\\AppData\\Local\\Programs\\Python\\Python39\\lib\\site-packages\\pandas\\core\\indexes\\base.py:3797\u001b[0m, in \u001b[0;36mIndex.get_loc\u001b[1;34m(self, key)\u001b[0m\n\u001b[0;32m   3792\u001b[0m     \u001b[38;5;28;01mif\u001b[39;00m \u001b[38;5;28misinstance\u001b[39m(casted_key, \u001b[38;5;28mslice\u001b[39m) \u001b[38;5;129;01mor\u001b[39;00m (\n\u001b[0;32m   3793\u001b[0m         \u001b[38;5;28misinstance\u001b[39m(casted_key, abc\u001b[38;5;241m.\u001b[39mIterable)\n\u001b[0;32m   3794\u001b[0m         \u001b[38;5;129;01mand\u001b[39;00m \u001b[38;5;28many\u001b[39m(\u001b[38;5;28misinstance\u001b[39m(x, \u001b[38;5;28mslice\u001b[39m) \u001b[38;5;28;01mfor\u001b[39;00m x \u001b[38;5;129;01min\u001b[39;00m casted_key)\n\u001b[0;32m   3795\u001b[0m     ):\n\u001b[0;32m   3796\u001b[0m         \u001b[38;5;28;01mraise\u001b[39;00m InvalidIndexError(key)\n\u001b[1;32m-> 3797\u001b[0m     \u001b[38;5;28;01mraise\u001b[39;00m \u001b[38;5;167;01mKeyError\u001b[39;00m(key) \u001b[38;5;28;01mfrom\u001b[39;00m \u001b[38;5;21;01merr\u001b[39;00m\n\u001b[0;32m   3798\u001b[0m \u001b[38;5;28;01mexcept\u001b[39;00m \u001b[38;5;167;01mTypeError\u001b[39;00m:\n\u001b[0;32m   3799\u001b[0m     \u001b[38;5;66;03m# If we have a listlike key, _check_indexing_error will raise\u001b[39;00m\n\u001b[0;32m   3800\u001b[0m     \u001b[38;5;66;03m#  InvalidIndexError. Otherwise we fall through and re-raise\u001b[39;00m\n\u001b[0;32m   3801\u001b[0m     \u001b[38;5;66;03m#  the TypeError.\u001b[39;00m\n\u001b[0;32m   3802\u001b[0m     \u001b[38;5;28mself\u001b[39m\u001b[38;5;241m.\u001b[39m_check_indexing_error(key)\n",
      "\u001b[1;31mKeyError\u001b[0m: 18"
     ]
    }
   ],
   "source": [
    "train_df = []\n",
    "for i in range(11, 22):\n",
    "    _df = df.copy()\n",
    "    _df['target'] = _df[i]\n",
    "\n",
    "    train_df.append(_df.sample(1000, random_state=42))\n",
    "    train_df[-1].to_csv(f'data/llm/samples/events_test_k1_{i}.txt', sep=' ', header=False, index=False)"
   ]
  },
  {
   "cell_type": "code",
   "execution_count": null,
   "metadata": {},
   "outputs": [],
   "source": [
    "df = pd.read_csv('data/llm/events_test_k3.txt', sep=' ', header=None, dtype=str)\n",
    "df = df.fillna('<NaN>')"
   ]
  },
  {
   "cell_type": "code",
   "execution_count": null,
   "metadata": {},
   "outputs": [],
   "source": [
    "for i in range(33, 44):\n",
    "    _df = df.copy()\n",
    "    _df['target'] = _df[i]\n",
    "\n",
    "    _df.loc[train_df[i-33].index].to_csv(f'data/llm/samples/events_test_k3_{i}.txt', sep=' ', header=False, index=False)"
   ]
  }
 ],
 "metadata": {
  "kernelspec": {
   "display_name": "Python 3",
   "language": "python",
   "name": "python3"
  },
  "language_info": {
   "codemirror_mode": {
    "name": "ipython",
    "version": 3
   },
   "file_extension": ".py",
   "mimetype": "text/x-python",
   "name": "python",
   "nbconvert_exporter": "python",
   "pygments_lexer": "ipython3",
   "version": "3.9.13"
  }
 },
 "nbformat": 4,
 "nbformat_minor": 2
}

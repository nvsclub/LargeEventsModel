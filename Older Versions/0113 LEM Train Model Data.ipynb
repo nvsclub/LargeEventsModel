{
 "cells": [
  {
   "cell_type": "code",
   "execution_count": 1,
   "metadata": {},
   "outputs": [],
   "source": [
    "import pandas as pd\n",
    "from lib.data_utils import *\n",
    "from lib.model_utils import *\n",
    "from tqdm import tqdm\n",
    "import numpy as np\n",
    "import matplotlib.pyplot as plt\n",
    "import time\n",
    "\n",
    "import torch\n",
    "import torch.optim as optim\n",
    "from torch.utils.data import DataLoader, TensorDataset\n",
    "\n",
    "from sklearn.metrics import log_loss\n",
    "\n",
    "import optuna"
   ]
  },
  {
   "cell_type": "code",
   "execution_count": 2,
   "metadata": {},
   "outputs": [],
   "source": [
    "MODEL_TYPE = 'DATA'\n",
    "MODEL_NAME = f'LEMv3_MODEL_{MODEL_TYPE}_TORCH'"
   ]
  },
  {
   "cell_type": "code",
   "execution_count": 3,
   "metadata": {},
   "outputs": [],
   "source": [
    "device = torch.device(\"cpu\")"
   ]
  },
  {
   "attachments": {},
   "cell_type": "markdown",
   "metadata": {},
   "source": [
    "# Loading and Preprocessing Data"
   ]
  },
  {
   "cell_type": "code",
   "execution_count": 4,
   "metadata": {},
   "outputs": [],
   "source": [
    "df_train, df_train_y, df_optimization, df_optimization_y, df_test, df_test_y, complete_feature_set, features_model = load_model_training_data_template(train_sets = ['data/wyscout/csv/events/Italy.csv', 'data/wyscout/csv/events/Germany.csv', 'data/wyscout/csv/events/France.csv'], optimization_sets = ['data/wyscout/csv/events/Italy.csv',], test_sets = ['data/wyscout/csv/events/Spain.csv', 'data/wyscout/csv/events/England.csv'])"
   ]
  },
  {
   "cell_type": "code",
   "execution_count": 5,
   "metadata": {},
   "outputs": [
    {
     "name": "stdout",
     "output_type": "stream",
     "text": [
      "['next_action_plus_seconds_0', 'next_action_plus_seconds_1', 'next_action_plus_seconds_2', 'next_action_plus_seconds_3', 'next_action_plus_seconds_4', 'next_action_plus_seconds_5', 'next_action_plus_seconds_6', 'next_action_plus_seconds_7', 'next_action_plus_seconds_8', 'next_action_plus_seconds_9', 'next_action_plus_seconds_10', 'next_action_plus_seconds_11', 'next_action_plus_seconds_12', 'next_action_plus_seconds_13', 'next_action_plus_seconds_14', 'next_action_plus_seconds_15', 'next_action_plus_seconds_16', 'next_action_plus_seconds_17', 'next_action_plus_seconds_18', 'next_action_plus_seconds_19', 'next_action_plus_seconds_20', 'next_action_plus_seconds_21', 'next_action_plus_seconds_22', 'next_action_plus_seconds_23', 'next_action_plus_seconds_24', 'next_action_plus_seconds_25', 'next_action_plus_seconds_26', 'next_action_plus_seconds_27', 'next_action_plus_seconds_28', 'next_action_plus_seconds_29', 'next_action_plus_seconds_30', 'next_action_plus_seconds_31', 'next_action_plus_seconds_32', 'next_action_plus_seconds_33', 'next_action_plus_seconds_34', 'next_action_plus_seconds_35', 'next_action_plus_seconds_36', 'next_action_plus_seconds_37', 'next_action_plus_seconds_38', 'next_action_plus_seconds_39', 'next_action_plus_seconds_40', 'next_action_plus_seconds_41', 'next_action_plus_seconds_42', 'next_action_plus_seconds_43', 'next_action_plus_seconds_44', 'next_action_plus_seconds_45', 'next_action_plus_seconds_46', 'next_action_plus_seconds_47', 'next_action_plus_seconds_48', 'next_action_plus_seconds_49', 'next_action_plus_seconds_50', 'next_action_plus_seconds_51', 'next_action_plus_seconds_52', 'next_action_plus_seconds_53', 'next_action_plus_seconds_54', 'next_action_plus_seconds_55', 'next_action_plus_seconds_56', 'next_action_plus_seconds_57', 'next_action_plus_seconds_58', 'next_action_plus_seconds_59', 'next_action_plus_seconds_60', 'next_action_x_0', 'next_action_x_1', 'next_action_x_2', 'next_action_x_3', 'next_action_x_4', 'next_action_x_5', 'next_action_x_6', 'next_action_x_7', 'next_action_x_8', 'next_action_x_9', 'next_action_x_10', 'next_action_x_11', 'next_action_x_12', 'next_action_x_13', 'next_action_x_14', 'next_action_x_15', 'next_action_x_16', 'next_action_x_17', 'next_action_x_18', 'next_action_x_19', 'next_action_x_20', 'next_action_x_21', 'next_action_x_22', 'next_action_x_23', 'next_action_x_24', 'next_action_x_25', 'next_action_x_26', 'next_action_x_27', 'next_action_x_28', 'next_action_x_29', 'next_action_x_30', 'next_action_x_31', 'next_action_x_32', 'next_action_x_33', 'next_action_x_34', 'next_action_x_35', 'next_action_x_36', 'next_action_x_37', 'next_action_x_38', 'next_action_x_39', 'next_action_x_40', 'next_action_x_41', 'next_action_x_42', 'next_action_x_43', 'next_action_x_44', 'next_action_x_45', 'next_action_x_46', 'next_action_x_47', 'next_action_x_48', 'next_action_x_49', 'next_action_x_50', 'next_action_x_51', 'next_action_x_52', 'next_action_x_53', 'next_action_x_54', 'next_action_x_55', 'next_action_x_56', 'next_action_x_57', 'next_action_x_58', 'next_action_x_59', 'next_action_x_60', 'next_action_x_61', 'next_action_x_62', 'next_action_x_63', 'next_action_x_64', 'next_action_x_65', 'next_action_x_66', 'next_action_x_67', 'next_action_x_68', 'next_action_x_69', 'next_action_x_70', 'next_action_x_71', 'next_action_x_72', 'next_action_x_73', 'next_action_x_74', 'next_action_x_75', 'next_action_x_76', 'next_action_x_77', 'next_action_x_78', 'next_action_x_79', 'next_action_x_80', 'next_action_x_81', 'next_action_x_82', 'next_action_x_83', 'next_action_x_84', 'next_action_x_85', 'next_action_x_86', 'next_action_x_87', 'next_action_x_88', 'next_action_x_89', 'next_action_x_90', 'next_action_x_91', 'next_action_x_92', 'next_action_x_93', 'next_action_x_94', 'next_action_x_95', 'next_action_x_96', 'next_action_x_97', 'next_action_x_98', 'next_action_x_99', 'next_action_x_100', 'next_action_y_0', 'next_action_y_1', 'next_action_y_2', 'next_action_y_3', 'next_action_y_4', 'next_action_y_5', 'next_action_y_6', 'next_action_y_7', 'next_action_y_8', 'next_action_y_9', 'next_action_y_10', 'next_action_y_11', 'next_action_y_12', 'next_action_y_13', 'next_action_y_14', 'next_action_y_15', 'next_action_y_16', 'next_action_y_17', 'next_action_y_18', 'next_action_y_19', 'next_action_y_20', 'next_action_y_21', 'next_action_y_22', 'next_action_y_23', 'next_action_y_24', 'next_action_y_25', 'next_action_y_26', 'next_action_y_27', 'next_action_y_28', 'next_action_y_29', 'next_action_y_30', 'next_action_y_31', 'next_action_y_32', 'next_action_y_33', 'next_action_y_34', 'next_action_y_35', 'next_action_y_36', 'next_action_y_37', 'next_action_y_38', 'next_action_y_39', 'next_action_y_40', 'next_action_y_41', 'next_action_y_42', 'next_action_y_43', 'next_action_y_44', 'next_action_y_45', 'next_action_y_46', 'next_action_y_47', 'next_action_y_48', 'next_action_y_49', 'next_action_y_50', 'next_action_y_51', 'next_action_y_52', 'next_action_y_53', 'next_action_y_54', 'next_action_y_55', 'next_action_y_56', 'next_action_y_57', 'next_action_y_58', 'next_action_y_59', 'next_action_y_60', 'next_action_y_61', 'next_action_y_62', 'next_action_y_63', 'next_action_y_64', 'next_action_y_65', 'next_action_y_66', 'next_action_y_67', 'next_action_y_68', 'next_action_y_69', 'next_action_y_70', 'next_action_y_71', 'next_action_y_72', 'next_action_y_73', 'next_action_y_74', 'next_action_y_75', 'next_action_y_76', 'next_action_y_77', 'next_action_y_78', 'next_action_y_79', 'next_action_y_80', 'next_action_y_81', 'next_action_y_82', 'next_action_y_83', 'next_action_y_84', 'next_action_y_85', 'next_action_y_86', 'next_action_y_87', 'next_action_y_88', 'next_action_y_89', 'next_action_y_90', 'next_action_y_91', 'next_action_y_92', 'next_action_y_93', 'next_action_y_94', 'next_action_y_95', 'next_action_y_96', 'next_action_y_97', 'next_action_y_98', 'next_action_y_99', 'next_action_y_100', 'next_action_team_True']\n"
     ]
    }
   ],
   "source": [
    "print(list(df_train_y[MODEL_TYPE].columns))"
   ]
  },
  {
   "cell_type": "code",
   "execution_count": 6,
   "metadata": {},
   "outputs": [
    {
     "name": "stdout",
     "output_type": "stream",
     "text": [
      "['subtype_id_1', 'subtype_id_2', 'subtype_id_3', 'subtype_id_4', 'subtype_id_5', 'subtype_id_6', 'subtype_id_7', 'subtype_id_8', 'subtype_id_9', 'subtype_id_10', 'subtype_id_11', 'subtype_id_12', 'subtype_id_13', 'subtype_id_14', 'subtype_id_15', 'subtype_id_16', 'subtype_id_17', 'subtype_id_18', 'subtype_id_19', 'subtype_id_20', 'subtype_id_21', 'subtype_id_22', 'subtype_id_23', 'subtype_id_24', 'subtype_id_25', 'subtype_id_26', 'subtype_id_27', 'subtype_id_28', 'subtype_id_29', 'subtype_id_30', 'subtype_id_31', 'subtype_id_32', 'subtype_id_33', 'period', 'minute', 'x', 'y', 'is_home_team', 'accurate', 'goal', 'home_score', 'away_score', 'next_action_type_1', 'next_action_type_2', 'next_action_type_3', 'next_action_type_4', 'next_action_type_5', 'next_action_type_6', 'next_action_type_7', 'next_action_type_8', 'next_action_type_9', 'next_action_type_10', 'next_action_type_11', 'next_action_type_12', 'next_action_type_13', 'next_action_type_14', 'next_action_type_15', 'next_action_type_16', 'next_action_type_17', 'next_action_type_18', 'next_action_type_19', 'next_action_type_20', 'next_action_type_21', 'next_action_type_22', 'next_action_type_23', 'next_action_type_24', 'next_action_type_25', 'next_action_type_26', 'next_action_type_27', 'next_action_type_28', 'next_action_type_29', 'next_action_type_30', 'next_action_type_31', 'next_action_type_32', 'next_action_type_33', 'next_action_accurate', 'next_action_goal']\n"
     ]
    }
   ],
   "source": [
    "features = features_model[MODEL_TYPE]\n",
    "print(features)"
   ]
  },
  {
   "cell_type": "code",
   "execution_count": 7,
   "metadata": {},
   "outputs": [],
   "source": [
    "X_train = df_train[features].astype(float).values\n",
    "x_optimization = df_optimization[features].astype(float).values\n",
    "X_test = df_test[features].astype(float).values\n",
    "\n",
    "Y_train = df_train_y[MODEL_TYPE].astype(float).values\n",
    "Y_optimization = df_optimization_y[MODEL_TYPE].astype(float).values\n",
    "Y_test = df_test_y[MODEL_TYPE].astype(float).values\n",
    "\n",
    "# Convert numpy arrays to PyTorch tensors\n",
    "X_train_tensor = torch.tensor(X_train, dtype=torch.float32)\n",
    "X_optimization_tensor = torch.tensor(x_optimization, dtype=torch.float32)\n",
    "X_test_tensor = torch.tensor(X_test, dtype=torch.float32)\n",
    "\n",
    "Y_train_tensor = torch.tensor(Y_train, dtype=torch.float32)\n",
    "Y_optimization_tensor = torch.tensor(Y_optimization, dtype=torch.float32)\n",
    "Y_test_tensor = torch.tensor(Y_test, dtype=torch.float32)\n",
    "\n",
    "# Create datasets\n",
    "train_dataset = TensorDataset(X_train_tensor, Y_train_tensor)\n",
    "optimization_dataset = TensorDataset(X_optimization_tensor, Y_optimization_tensor)\n",
    "test_dataset = TensorDataset(X_test_tensor, Y_test_tensor)\n",
    "\n",
    "# Create dataloaders\n",
    "train_dataloader = DataLoader(train_dataset, batch_size=1024, shuffle=True)\n",
    "optimization_dataloader = DataLoader(optimization_dataset, batch_size=1024, shuffle=False)\n",
    "test_dataloader = DataLoader(test_dataset, batch_size=1024, shuffle=False)\n",
    "\n",
    "input_size = X_train.shape[1]\n",
    "output_size = Y_train.shape[1]"
   ]
  },
  {
   "attachments": {},
   "cell_type": "markdown",
   "metadata": {},
   "source": [
    "# Tunning Model"
   ]
  },
  {
   "cell_type": "code",
   "execution_count": 8,
   "metadata": {},
   "outputs": [],
   "source": [
    "ENABLE_TUNING = False\n",
    "TUNNING_COMPLEXITY_PENALTY = 0.001\n",
    "TUNNING_TRAIN_TEST_SPLIT = 0.7\n",
    "TUNNING_N_TRIALS = 40"
   ]
  },
  {
   "cell_type": "code",
   "execution_count": 9,
   "metadata": {},
   "outputs": [],
   "source": [
    "if ENABLE_TUNING:\n",
    "    study = optuna.create_study(direction=\"minimize\")\n",
    "    study.optimize(lambda trial: objective(trial, X_optimization_tensor, Y_optimization_tensor, model_name=MODEL_NAME, train_test_split=TUNNING_TRAIN_TEST_SPLIT, complexity_penalty=TUNNING_COMPLEXITY_PENALTY), n_trials=TUNNING_N_TRIALS)"
   ]
  },
  {
   "cell_type": "code",
   "execution_count": 10,
   "metadata": {},
   "outputs": [],
   "source": [
    "if ENABLE_TUNING:\n",
    "    trial = study.best_trial\n",
    "    print(trial.value, trial.params, trial.datetime_start, trial.datetime_complete)\n",
    "    \n",
    "    model = torch.load(f'models/lem/optuna_trials/{MODEL_NAME}_{trial.number}.pt')\n",
    "    test_log_loss = evaluate_log_loss(model, optimization_dataloader, device)\n",
    "    print(f'Test Log Loss: {test_log_loss:.4f}')\n",
    "\n",
    "    plt.rcParams[\"figure.figsize\"] = (20, 5)\n",
    "    plt.subplot(121)\n",
    "    probabilities = predict(model, X_optimization_tensor, device)\n",
    "    plt.hist(probabilities, bins=50);\n",
    "    plt.subplot(122)\n",
    "    plt.hist(probabilities[:,1], bins=50, color='C1')\n",
    "    plt.yscale('log');"
   ]
  },
  {
   "attachments": {},
   "cell_type": "markdown",
   "metadata": {},
   "source": [
    "# Train model"
   ]
  },
  {
   "cell_type": "code",
   "execution_count": 11,
   "metadata": {},
   "outputs": [
    {
     "name": "stdout",
     "output_type": "stream",
     "text": [
      "Epoch: 1/100.. Training loss: 0.0496.. Test loss: 0.0448.. Test Log Loss: 13.4422\n",
      "Epoch: 2/100.. Training loss: 0.0442.. Test loss: 0.0438.. Test Log Loss: 13.2169\n",
      "Epoch: 3/100.. Training loss: 0.0436.. Test loss: 0.0434.. Test Log Loss: 13.1208\n",
      "Epoch: 4/100.. Training loss: 0.0432.. Test loss: 0.0430.. Test Log Loss: 13.0258\n",
      "Epoch: 5/100.. Training loss: 0.0429.. Test loss: 0.0428.. Test Log Loss: 12.9814\n",
      "Epoch: 6/100.. Training loss: 0.0427.. Test loss: 0.0427.. Test Log Loss: 12.9386\n",
      "Epoch: 7/100.. Training loss: 0.0425.. Test loss: 0.0424.. Test Log Loss: 12.8863\n",
      "Epoch: 8/100.. Training loss: 0.0423.. Test loss: 0.0423.. Test Log Loss: 12.8685\n",
      "Epoch: 9/100.. Training loss: 0.0422.. Test loss: 0.0422.. Test Log Loss: 12.8449\n",
      "Epoch: 10/100.. Training loss: 0.0421.. Test loss: 0.0422.. Test Log Loss: 12.8397\n",
      "Epoch: 11/100.. Training loss: 0.0420.. Test loss: 0.0421.. Test Log Loss: 12.8269\n",
      "Epoch: 12/100.. Training loss: 0.0420.. Test loss: 0.0421.. Test Log Loss: 12.8266\n",
      "Epoch: 13/100.. Training loss: 0.0419.. Test loss: 0.0420.. Test Log Loss: 12.8050\n",
      "Epoch: 14/100.. Training loss: 0.0419.. Test loss: 0.0419.. Test Log Loss: 12.7976\n",
      "Epoch: 15/100.. Training loss: 0.0418.. Test loss: 0.0420.. Test Log Loss: 12.8134\n",
      "Epoch: 16/100.. Training loss: 0.0418.. Test loss: 0.0420.. Test Log Loss: 12.8073\n",
      "Epoch: 17/100.. Training loss: 0.0417.. Test loss: 0.0417.. Test Log Loss: 12.7662\n",
      "Epoch: 18/100.. Training loss: 0.0417.. Test loss: 0.0417.. Test Log Loss: 12.7632\n",
      "Epoch: 19/100.. Training loss: 0.0417.. Test loss: 0.0417.. Test Log Loss: 12.7549\n",
      "Epoch: 20/100.. Training loss: 0.0416.. Test loss: 0.0417.. Test Log Loss: 12.7623\n",
      "Epoch: 21/100.. Training loss: 0.0416.. Test loss: 0.0417.. Test Log Loss: 12.7553\n",
      "Epoch: 22/100.. Training loss: 0.0416.. Test loss: 0.0418.. Test Log Loss: 12.7706\n"
     ]
    }
   ],
   "source": [
    "model = MultiLayerBinaryClassifier(input_size, [64, 256, 256], output_size).to(device)\n",
    "learning_rate = 0.0063\n",
    "num_epochs = 100\n",
    "patience = 3\n",
    "counter = 0\n",
    "best_val_loss = 1000\n",
    "\n",
    "optimizer = optim.Adam(model.parameters(), lr=learning_rate)\n",
    "criterion = nn.BCELoss()\n",
    "\n",
    "for epoch in range(num_epochs):\n",
    "    train_loss = train(model, train_dataloader, criterion, optimizer, device)\n",
    "    test_loss = evaluate(model, test_dataloader, criterion, device)\n",
    "    test_log_loss = evaluate_log_loss(model, test_dataloader, device)\n",
    "    print(f'Epoch: {epoch+1}/{num_epochs}.. Training loss: {train_loss:.4f}.. Test loss: {test_loss:.4f}.. Test Log Loss: {test_log_loss:.4f}')\n",
    "\n",
    "    if test_log_loss < best_val_loss:\n",
    "        best_val_loss = test_log_loss\n",
    "        counter = 0\n",
    "        torch.save(model, f'models/lem/{MODEL_NAME}.pth')\n",
    "    else:\n",
    "        counter += 1\n",
    "        if counter >= patience:\n",
    "            break"
   ]
  },
  {
   "cell_type": "code",
   "execution_count": 12,
   "metadata": {},
   "outputs": [
    {
     "data": {
      "image/png": "[encoded data removed]",
      "text/plain": [
       "<Figure size 1060x680 with 1 Axes>"
      ]
     },
     "metadata": {},
     "output_type": "display_data"
    }
   ],
   "source": [
    "plt.rcParams[\"figure.figsize\"] = (10.6, 6.8)\n",
    "probabilities = predict(model, X_test_tensor, device)\n",
    "plt.hist(probabilities, bins=25);"
   ]
  }
 ],
 "metadata": {
  "kernelspec": {
   "display_name": "Python 3",
   "language": "python",
   "name": "python3"
  },
  "language_info": {
   "codemirror_mode": {
    "name": "ipython",
    "version": 3
   },
   "file_extension": ".py",
   "mimetype": "text/x-python",
   "name": "python",
   "nbconvert_exporter": "python",
   "pygments_lexer": "ipython3",
   "version": "3.10.9"
  },
  "orig_nbformat": 4
 },
 "nbformat": 4,
 "nbformat_minor": 2
}

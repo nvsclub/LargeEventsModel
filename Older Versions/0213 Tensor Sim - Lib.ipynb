{
 "cells": [
  {
   "cell_type": "code",
   "execution_count": 1,
   "metadata": {},
   "outputs": [],
   "source": [
    "import pandas as pd\n",
    "import matplotlib.pyplot as plt\n",
    "\n",
    "from lib.data_utils import *\n",
    "from lib.model_utils import *\n",
    "\n",
    "from lib.simulator import *\n",
    "\n",
    "from glob import glob"
   ]
  },
  {
   "cell_type": "code",
   "execution_count": 2,
   "metadata": {},
   "outputs": [],
   "source": [
    "def sim_models(model_name):\n",
    "    sim_basemodel = Simulator(\n",
    "        model_type_path=model_name.replace('ACC', 'TYPE'),\n",
    "        model_acc_path=model_name,\n",
    "        model_data_path=model_name.replace('ACC', 'DATA'),\n",
    "        device='cuda:0'\n",
    "    )\n",
    "\n",
    "    feature_tensor = sim_basemodel.simulate([1 if i == 27 else 0 for i in range(33)] + [0, 0, 0.5, 0.5, 1, 1, 0, 0, 0], store_full_sim=False, n_sims=3000, disable_tqdm=True)\n",
    "\n",
    "    data = pd.DataFrame(feature_tensor.cpu())\n",
    "    data['type_id'] = data[data.columns[:33]].idxmax(axis=1) + 1\n",
    "    data = data.drop(data.columns[:33], axis=1)\n",
    "    data.columns = ['period', 'minute', 'x', 'y', 'is_home_team', 'accurate', 'goal', 'home_score', 'away_score', 'type_id']\n",
    "    data.home_score = (data.home_score * 10).astype(int)\n",
    "    data.away_score = (data.away_score * 10).astype(int)\n",
    "\n",
    "    return [\n",
    "        (data.home_score > data.away_score).mean() * 3 + (data.home_score == data.away_score).mean(),\n",
    "        (data.home_score < data.away_score).mean() * 3 + (data.home_score == data.away_score).mean(),\n",
    "        data.home_score.mean(),\n",
    "        data.away_score.mean(),\n",
    "        ]"
   ]
  },
  {
   "cell_type": "markdown",
   "metadata": {},
   "source": [
    "# Simulations"
   ]
  },
  {
   "cell_type": "code",
   "execution_count": 3,
   "metadata": {},
   "outputs": [
    {
     "name": "stderr",
     "output_type": "stream",
     "text": [
      "  0%|          | 0/1200 [00:00<?, ?it/s]"
     ]
    },
    {
     "name": "stderr",
     "output_type": "stream",
     "text": [
      "100%|██████████| 1200/1200 [31:30<00:00,  1.58s/it]\n"
     ]
    }
   ],
   "source": [
    "sim_data = []\n",
    "# for fname in tqdm(glob(f'models/finetuning/*/*/*.pth')):\n",
    "for fname in tqdm(glob(f'models/finetuning/player_adding_2/*/*.pth')):\n",
    "    if 'ACC' not in fname:\n",
    "        continue\n",
    "    model_type = fname.split('/')[2]\n",
    "    model_name = fname.split('/')[-2]\n",
    "    model_id = fname.split('/')[-1].replace('_ACC.pth', '')\n",
    "    sim_data.append([model_type, model_name, model_id] + sim_models(fname))"
   ]
  },
  {
   "cell_type": "code",
   "execution_count": 4,
   "metadata": {},
   "outputs": [],
   "source": [
    "for i in range(10):\n",
    "    sim_data.append(['base', 'base', str(i)] + sim_models('models/lem/LEMv4_MODEL_ACC_TORCH.pth'))"
   ]
  },
  {
   "cell_type": "markdown",
   "metadata": {},
   "source": [
    "# Saving Data"
   ]
  },
  {
   "cell_type": "code",
   "execution_count": null,
   "metadata": {},
   "outputs": [],
   "source": [
    "pd.DataFrame(sim_data, columns=['model_type', 'model_name', 'model_id', 'home_points', 'away_points', 'home_goals', 'away_goals']).to_csv('res/sim_finetuning_results_v11.csv')"
   ]
  }
 ],
 "metadata": {
  "kernelspec": {
   "display_name": "Python 3",
   "language": "python",
   "name": "python3"
  },
  "language_info": {
   "codemirror_mode": {
    "name": "ipython",
    "version": 3
   },
   "file_extension": ".py",
   "mimetype": "text/x-python",
   "name": "python",
   "nbconvert_exporter": "python",
   "pygments_lexer": "ipython3",
   "version": "3.9.13"
  },
  "orig_nbformat": 4
 },
 "nbformat": 4,
 "nbformat_minor": 2
}

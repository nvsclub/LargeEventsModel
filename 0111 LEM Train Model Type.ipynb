{
 "cells": [
  {
   "cell_type": "code",
   "execution_count": 1,
   "metadata": {},
   "outputs": [],
   "source": [
    "import pandas as pd\n",
    "from lib.data_utils import *\n",
    "from lib.model_utils import *\n",
    "from tqdm import tqdm\n",
    "import numpy as np\n",
    "import matplotlib.pyplot as plt\n",
    "import time\n",
    "\n",
    "import torch\n",
    "import torch.optim as optim\n",
    "from torch.utils.data import DataLoader, TensorDataset\n",
    "\n",
    "from sklearn.metrics import log_loss\n",
    "\n",
    "import optuna"
   ]
  },
  {
   "cell_type": "code",
   "execution_count": 2,
   "metadata": {},
   "outputs": [],
   "source": [
    "MODEL_TYPE = 'TYPE'\n",
    "MODEL_NAME = f'LEMv3_MODEL_{MODEL_TYPE}_TORCH'"
   ]
  },
  {
   "cell_type": "code",
   "execution_count": 3,
   "metadata": {},
   "outputs": [],
   "source": [
    "device = torch.device(\"cpu\")"
   ]
  },
  {
   "attachments": {},
   "cell_type": "markdown",
   "metadata": {},
   "source": [
    "# Loading and Preprocessing Data"
   ]
  },
  {
   "cell_type": "code",
   "execution_count": 4,
   "metadata": {},
   "outputs": [],
   "source": [
    "df_train, df_train_y, df_optimization, df_optimization_y, df_test, df_test_y, complete_feature_set, features_model = load_model_training_data_template(train_sets = ['data/wyscout/csv/events/Italy.csv', 'data/wyscout/csv/events/Germany.csv', 'data/wyscout/csv/events/France.csv'], optimization_sets = ['data/wyscout/csv/events/Italy.csv',], test_sets = ['data/wyscout/csv/events/Spain.csv', 'data/wyscout/csv/events/England.csv'])"
   ]
  },
  {
   "cell_type": "code",
   "execution_count": 5,
   "metadata": {},
   "outputs": [
    {
     "name": "stdout",
     "output_type": "stream",
     "text": [
      "['next_action_type_1', 'next_action_type_2', 'next_action_type_3', 'next_action_type_4', 'next_action_type_5', 'next_action_type_6', 'next_action_type_7', 'next_action_type_8', 'next_action_type_9', 'next_action_type_10', 'next_action_type_11', 'next_action_type_12', 'next_action_type_13', 'next_action_type_14', 'next_action_type_15', 'next_action_type_16', 'next_action_type_17', 'next_action_type_18', 'next_action_type_19', 'next_action_type_20', 'next_action_type_21', 'next_action_type_22', 'next_action_type_23', 'next_action_type_24', 'next_action_type_25', 'next_action_type_26', 'next_action_type_27', 'next_action_type_28', 'next_action_type_29', 'next_action_type_30', 'next_action_type_31', 'next_action_type_32', 'next_action_type_33']\n"
     ]
    }
   ],
   "source": [
    "print(list(df_train_y[MODEL_TYPE].columns))"
   ]
  },
  {
   "cell_type": "code",
   "execution_count": 6,
   "metadata": {},
   "outputs": [
    {
     "name": "stdout",
     "output_type": "stream",
     "text": [
      "['subtype_id_1', 'subtype_id_2', 'subtype_id_3', 'subtype_id_4', 'subtype_id_5', 'subtype_id_6', 'subtype_id_7', 'subtype_id_8', 'subtype_id_9', 'subtype_id_10', 'subtype_id_11', 'subtype_id_12', 'subtype_id_13', 'subtype_id_14', 'subtype_id_15', 'subtype_id_16', 'subtype_id_17', 'subtype_id_18', 'subtype_id_19', 'subtype_id_20', 'subtype_id_21', 'subtype_id_22', 'subtype_id_23', 'subtype_id_24', 'subtype_id_25', 'subtype_id_26', 'subtype_id_27', 'subtype_id_28', 'subtype_id_29', 'subtype_id_30', 'subtype_id_31', 'subtype_id_32', 'subtype_id_33', 'period', 'minute', 'x', 'y', 'is_home_team', 'accurate', 'goal', 'home_score', 'away_score']\n"
     ]
    }
   ],
   "source": [
    "features = features_model[MODEL_TYPE]\n",
    "print(features)"
   ]
  },
  {
   "cell_type": "code",
   "execution_count": 7,
   "metadata": {},
   "outputs": [],
   "source": [
    "X_train = df_train[features].astype(float).values\n",
    "x_optimization = df_optimization[features].astype(float).values\n",
    "X_test = df_test[features].astype(float).values\n",
    "\n",
    "Y_train = df_train_y[MODEL_TYPE].astype(float).values\n",
    "Y_optimization = df_optimization_y[MODEL_TYPE].astype(float).values\n",
    "Y_test = df_test_y[MODEL_TYPE].astype(float).values\n",
    "\n",
    "# Convert numpy arrays to PyTorch tensors\n",
    "X_train_tensor = torch.tensor(X_train, dtype=torch.float32)\n",
    "X_optimization_tensor = torch.tensor(x_optimization, dtype=torch.float32)\n",
    "X_test_tensor = torch.tensor(X_test, dtype=torch.float32)\n",
    "\n",
    "Y_train_tensor = torch.tensor(Y_train, dtype=torch.float32)\n",
    "Y_optimization_tensor = torch.tensor(Y_optimization, dtype=torch.float32)\n",
    "Y_test_tensor = torch.tensor(Y_test, dtype=torch.float32)\n",
    "\n",
    "# Create datasets\n",
    "train_dataset = TensorDataset(X_train_tensor, Y_train_tensor)\n",
    "optimization_dataset = TensorDataset(X_optimization_tensor, Y_optimization_tensor)\n",
    "test_dataset = TensorDataset(X_test_tensor, Y_test_tensor)\n",
    "\n",
    "# Create dataloaders\n",
    "train_dataloader = DataLoader(train_dataset, batch_size=32, shuffle=True)\n",
    "optimization_dataloader = DataLoader(optimization_dataset, batch_size=32, shuffle=False)\n",
    "test_dataloader = DataLoader(test_dataset, batch_size=32, shuffle=False)\n",
    "\n",
    "input_size = X_train.shape[1]\n",
    "output_size = Y_train.shape[1]"
   ]
  },
  {
   "attachments": {},
   "cell_type": "markdown",
   "metadata": {},
   "source": [
    "# Tunning Model"
   ]
  },
  {
   "cell_type": "code",
   "execution_count": 8,
   "metadata": {},
   "outputs": [],
   "source": [
    "ENABLE_TUNING = False\n",
    "TUNNING_COMPLEXITY_PENALTY = 0.001\n",
    "TUNNING_TRAIN_TEST_SPLIT = 0.7\n",
    "TUNNING_N_TRIALS = 40"
   ]
  },
  {
   "cell_type": "code",
   "execution_count": 9,
   "metadata": {},
   "outputs": [],
   "source": [
    "if ENABLE_TUNING:\n",
    "    study = optuna.create_study(direction=\"minimize\")\n",
    "    study.optimize(lambda trial: objective(trial, X_optimization_tensor, Y_optimization_tensor, model_name=MODEL_NAME, train_test_split=TUNNING_TRAIN_TEST_SPLIT, complexity_penalty=TUNNING_COMPLEXITY_PENALTY), n_trials=TUNNING_N_TRIALS)"
   ]
  },
  {
   "cell_type": "code",
   "execution_count": 10,
   "metadata": {},
   "outputs": [],
   "source": [
    "if ENABLE_TUNING:\n",
    "    trial = study.best_trial\n",
    "    print(trial.value, trial.params, trial.datetime_start, trial.datetime_complete)\n",
    "    \n",
    "    model = torch.load(f'models/lem/optuna_trials/{MODEL_NAME}_{trial.number}.pt')\n",
    "    test_log_loss = evaluate_log_loss(model, optimization_dataloader, device)\n",
    "    print(f'Test Log Loss: {test_log_loss:.4f}')\n",
    "\n",
    "    plt.rcParams[\"figure.figsize\"] = (20, 5)\n",
    "    plt.subplot(121)\n",
    "    probabilities = predict(model, X_optimization_tensor, device)\n",
    "    plt.hist(probabilities, bins=50);\n",
    "    plt.subplot(122)\n",
    "    plt.hist(probabilities[:,1], bins=50, color='C1')\n",
    "    plt.yscale('log');"
   ]
  },
  {
   "attachments": {},
   "cell_type": "markdown",
   "metadata": {},
   "source": [
    "# Train model"
   ]
  },
  {
   "cell_type": "code",
   "execution_count": 11,
   "metadata": {},
   "outputs": [
    {
     "name": "stdout",
     "output_type": "stream",
     "text": [
      "Epoch: 1/100.. Training loss: 0.0722.. Test loss: 0.0701.. Test Log Loss: 1.5525\n",
      "Epoch: 2/100.. Training loss: 0.0693.. Test loss: 0.0693.. Test Log Loss: 1.5286\n",
      "Epoch: 3/100.. Training loss: 0.0686.. Test loss: 0.0690.. Test Log Loss: 1.5194\n",
      "Epoch: 4/100.. Training loss: 0.0684.. Test loss: 0.0687.. Test Log Loss: 1.5132\n",
      "Epoch: 5/100.. Training loss: 0.0682.. Test loss: 0.0687.. Test Log Loss: 1.5113\n",
      "Epoch: 6/100.. Training loss: 0.0681.. Test loss: 0.0687.. Test Log Loss: 1.5116\n",
      "Epoch: 7/100.. Training loss: 0.0680.. Test loss: 0.0686.. Test Log Loss: 1.5082\n",
      "Epoch: 8/100.. Training loss: 0.0680.. Test loss: 0.0685.. Test Log Loss: 1.5052\n",
      "Epoch: 9/100.. Training loss: 0.0679.. Test loss: 0.0684.. Test Log Loss: 1.5044\n",
      "Epoch: 10/100.. Training loss: 0.0679.. Test loss: 0.0685.. Test Log Loss: 1.5049\n",
      "Epoch: 11/100.. Training loss: 0.0679.. Test loss: 0.0684.. Test Log Loss: 1.5037\n",
      "Epoch: 12/100.. Training loss: 0.0678.. Test loss: 0.0684.. Test Log Loss: 1.5048\n",
      "Epoch: 13/100.. Training loss: 0.0678.. Test loss: 0.0685.. Test Log Loss: 1.5056\n",
      "Epoch: 14/100.. Training loss: 0.0678.. Test loss: 0.0684.. Test Log Loss: 1.5032\n",
      "Epoch: 15/100.. Training loss: 0.0678.. Test loss: 0.0683.. Test Log Loss: 1.5023\n",
      "Epoch: 16/100.. Training loss: 0.0678.. Test loss: 0.0684.. Test Log Loss: 1.5042\n",
      "Epoch: 17/100.. Training loss: 0.0678.. Test loss: 0.0683.. Test Log Loss: 1.5020\n",
      "Epoch: 18/100.. Training loss: 0.0678.. Test loss: 0.0683.. Test Log Loss: 1.5017\n",
      "Epoch: 19/100.. Training loss: 0.0678.. Test loss: 0.0684.. Test Log Loss: 1.5040\n",
      "Epoch: 20/100.. Training loss: 0.0677.. Test loss: 0.0683.. Test Log Loss: 1.5019\n",
      "Epoch: 21/100.. Training loss: 0.0677.. Test loss: 0.0683.. Test Log Loss: 1.5013\n",
      "Epoch: 22/100.. Training loss: 0.0677.. Test loss: 0.0684.. Test Log Loss: 1.5025\n",
      "Epoch: 23/100.. Training loss: 0.0677.. Test loss: 0.0683.. Test Log Loss: 1.5023\n",
      "Epoch: 24/100.. Training loss: 0.0677.. Test loss: 0.0683.. Test Log Loss: 1.5012\n",
      "Epoch: 25/100.. Training loss: 0.0677.. Test loss: 0.0683.. Test Log Loss: 1.5017\n",
      "Epoch: 26/100.. Training loss: 0.0677.. Test loss: 0.0683.. Test Log Loss: 1.5009\n",
      "Epoch: 27/100.. Training loss: 0.0677.. Test loss: 0.0683.. Test Log Loss: 1.5024\n",
      "Epoch: 28/100.. Training loss: 0.0677.. Test loss: 0.0683.. Test Log Loss: 1.5021\n",
      "Epoch: 29/100.. Training loss: 0.0677.. Test loss: 0.0683.. Test Log Loss: 1.5022\n"
     ]
    }
   ],
   "source": [
    "model = MultiLayerBinaryClassifier(input_size, [256], output_size, activation='sigmoid').to(device)\n",
    "learning_rate = 0.001\n",
    "num_epochs = 100\n",
    "patience = 3\n",
    "counter = 0\n",
    "best_val_loss = 1000\n",
    "\n",
    "optimizer = optim.Adam(model.parameters(), lr=learning_rate)\n",
    "criterion = nn.BCELoss()\n",
    "\n",
    "for epoch in range(num_epochs):\n",
    "    train_loss = train(model, train_dataloader, criterion, optimizer, device)\n",
    "    test_loss = evaluate(model, test_dataloader, criterion, device)\n",
    "    test_log_loss = evaluate_log_loss(model, test_dataloader, device)\n",
    "    print(f'Epoch: {epoch+1}/{num_epochs}.. Training loss: {train_loss:.4f}.. Test loss: {test_loss:.4f}.. Test Log Loss: {test_log_loss:.4f}')\n",
    "\n",
    "    if test_log_loss < best_val_loss:\n",
    "        best_val_loss = test_log_loss\n",
    "        counter = 0\n",
    "        torch.save(model, f'models/lem/{MODEL_NAME}.pth')\n",
    "    else:\n",
    "        counter += 1\n",
    "        if counter >= patience:\n",
    "            break"
   ]
  },
  {
   "cell_type": "code",
   "execution_count": 12,
   "metadata": {},
   "outputs": [
    {
     "data": {
      "image/png": "[encoded data removed]",
      "text/plain": [
       "<Figure size 1060x680 with 1 Axes>"
      ]
     },
     "metadata": {},
     "output_type": "display_data"
    }
   ],
   "source": [
    "plt.rcParams[\"figure.figsize\"] = (10.6, 6.8)\n",
    "probabilities = predict(model, X_test_tensor, device)\n",
    "plt.hist(probabilities, bins=25);"
   ]
  }
 ],
 "metadata": {
  "kernelspec": {
   "display_name": "Python 3",
   "language": "python",
   "name": "python3"
  },
  "language_info": {
   "codemirror_mode": {
    "name": "ipython",
    "version": 3
   },
   "file_extension": ".py",
   "mimetype": "text/x-python",
   "name": "python",
   "nbconvert_exporter": "python",
   "pygments_lexer": "ipython3",
   "version": "3.10.9"
  },
  "orig_nbformat": 4
 },
 "nbformat": 4,
 "nbformat_minor": 2
}
